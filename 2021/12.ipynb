{
 "cells": [
  {
   "cell_type": "code",
   "execution_count": 74,
   "id": "05a5bd73",
   "metadata": {},
   "outputs": [],
   "source": [
    "from copy import copy\n",
    "from aocd.models import Puzzle\n",
    "puzzle = Puzzle(year=2021, day=12)\n",
    "data = puzzle.input_data.split('\\n')"
   ]
  },
  {
   "cell_type": "code",
   "execution_count": 70,
   "id": "e105aade",
   "metadata": {},
   "outputs": [],
   "source": [
    "data = '''\n",
    "start-A\n",
    "start-b\n",
    "A-c\n",
    "A-b\n",
    "b-d\n",
    "A-end\n",
    "b-end\n",
    "'''\n",
    "data = data.split('\\n')[1:-1]"
   ]
  },
  {
   "cell_type": "code",
   "execution_count": 57,
   "id": "3c3a5e3e",
   "metadata": {},
   "outputs": [
    {
     "name": "stdout",
     "output_type": "stream",
     "text": [
      "Number of paths: 4720.\n"
     ]
    }
   ],
   "source": [
    "def big(cave):\n",
    "    return cave.upper() == cave\n",
    "\n",
    "connections = {}\n",
    "caves = set()\n",
    "for line in data:\n",
    "    a, b = line.split('-')\n",
    "    caves.update({a, b})\n",
    "    connections.setdefault(a, set()).add(b)\n",
    "    connections.setdefault(b, set()).add(a)\n",
    "\n",
    "paths = []\n",
    "def explore(path, cave):\n",
    "    if cave == 'end':\n",
    "        paths.append(path)\n",
    "    else:\n",
    "        for child in connections[cave]:\n",
    "            if big(child) or child not in path:\n",
    "                explore(path + [child], child)\n",
    "\n",
    "explore(['start'], 'start')\n",
    "print(f'Number of paths: {len(paths)}.')"
   ]
  },
  {
   "cell_type": "code",
   "execution_count": 58,
   "id": "6e6ef4f7",
   "metadata": {},
   "outputs": [
    {
     "name": "stdout",
     "output_type": "stream",
     "text": [
      "\u001b[32mThat's the right answer!  You are one gold star closer to finding the sleigh keys. [Continue to Part Two]\u001b[0m\n",
      "Opening in existing browser session.\n"
     ]
    },
    {
     "name": "stderr",
     "output_type": "stream",
     "text": [
      "[5746:5746:0100/000000.278806:ERROR:sandbox_linux.cc(376)] InitializeSandbox() called with multiple threads in process gpu-process.\n"
     ]
    }
   ],
   "source": [
    "puzzle.answer_a = 4720"
   ]
  },
  {
   "cell_type": "code",
   "execution_count": 75,
   "id": "8d1f2d1f",
   "metadata": {},
   "outputs": [
    {
     "name": "stdout",
     "output_type": "stream",
     "text": [
      "Number of paths: 147848.\n"
     ]
    }
   ],
   "source": [
    "def big(cave):\n",
    "    return cave.upper() == cave\n",
    "\n",
    "connections = {}\n",
    "caves = set()\n",
    "for line in data:\n",
    "    a, b = line.split('-')\n",
    "    caves.update({a, b})\n",
    "    connections.setdefault(a, set()).add(b)\n",
    "    connections.setdefault(b, set()).add(a)\n",
    "\n",
    "def valid_small(child, path):\n",
    "    small_caves = [cave for cave in path if not big(cave)]\n",
    "    if child == 'start':\n",
    "        return False\n",
    "    elif len(small_caves) <= len(set(small_caves)) + 1:\n",
    "        return True\n",
    "\n",
    "paths = []\n",
    "def explore(path, cave):\n",
    "    if cave == 'end':\n",
    "        paths.append(path)\n",
    "    else:\n",
    "        for child in connections[cave]:\n",
    "            if big(child) or valid_small(child, path):\n",
    "                explore(path + [child], child)\n",
    "\n",
    "explore(['start'], 'start')\n",
    "print(f'Number of paths: {len(paths)}.')\n",
    "\n",
    "# for path in paths:\n",
    "#     print(path)"
   ]
  },
  {
   "cell_type": "code",
   "execution_count": 76,
   "id": "e1c1873f",
   "metadata": {},
   "outputs": [
    {
     "name": "stdout",
     "output_type": "stream",
     "text": [
      "\u001b[32mThat's the right answer!  You are one gold star closer to finding the sleigh keys.You have completed Day 12! You can [Shareon\n",
      "  Twitter\n",
      "Mastodon] this victory or [Return to Your Advent Calendar].\u001b[0m\n",
      "Opening in existing browser session.\n"
     ]
    },
    {
     "name": "stderr",
     "output_type": "stream",
     "text": [
      "[5993:5993:0100/000000.094734:ERROR:sandbox_linux.cc(376)] InitializeSandbox() called with multiple threads in process gpu-process.\n"
     ]
    }
   ],
   "source": [
    "puzzle.answer_b = 147848"
   ]
  }
 ],
 "metadata": {
  "kernelspec": {
   "display_name": "Python 3",
   "language": "python",
   "name": "python3"
  },
  "language_info": {
   "codemirror_mode": {
    "name": "ipython",
    "version": 3
   },
   "file_extension": ".py",
   "mimetype": "text/x-python",
   "name": "python",
   "nbconvert_exporter": "python",
   "pygments_lexer": "ipython3",
   "version": "3.8.10"
  }
 },
 "nbformat": 4,
 "nbformat_minor": 5
}
