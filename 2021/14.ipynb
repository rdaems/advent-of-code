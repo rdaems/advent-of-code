{
 "cells": [
  {
   "cell_type": "code",
   "execution_count": 1,
   "id": "05a5bd73",
   "metadata": {},
   "outputs": [],
   "source": [
    "from copy import copy\n",
    "from aocd.models import Puzzle\n",
    "from itertools import chain\n",
    "from functools import lru_cache\n",
    "puzzle = Puzzle(year=2021, day=14)\n",
    "data = puzzle.input_data.split('\\n')"
   ]
  },
  {
   "cell_type": "code",
   "execution_count": 58,
   "id": "e105aade",
   "metadata": {},
   "outputs": [],
   "source": [
    "data = '''\n",
    "NNCB\n",
    "\n",
    "CH -> B\n",
    "HH -> N\n",
    "CB -> H\n",
    "NH -> C\n",
    "HB -> C\n",
    "HC -> B\n",
    "HN -> C\n",
    "NN -> C\n",
    "BH -> H\n",
    "NC -> B\n",
    "NB -> B\n",
    "BN -> B\n",
    "BB -> N\n",
    "BC -> B\n",
    "CC -> N\n",
    "CN -> C\n",
    "'''\n",
    "data = data.split('\\n')[1:-1]"
   ]
  },
  {
   "cell_type": "code",
   "execution_count": 4,
   "id": "23c4eb29",
   "metadata": {},
   "outputs": [
    {
     "name": "stdout",
     "output_type": "stream",
     "text": [
      "Counts of most common element substracted by counts of least common element: 3353146900153.\n"
     ]
    }
   ],
   "source": [
    "polymer = [c for c in data[0]]\n",
    "rules = {rule[:2]: rule[-1] for rule in data[2:]}\n",
    "\n",
    "elements = set(rules.values())\n",
    "counts = {key: 0 for key in elements}\n",
    "counts[polymer[0]] = 1\n",
    "\n",
    "def sum(a, b):\n",
    "    return {e: a[e] + b[e] for e in elements}\n",
    "\n",
    "@lru_cache(maxsize=1000000000)\n",
    "def f(a, b, steps):\n",
    "    if steps == 0:\n",
    "        counts = {key: 0 for key in elements}\n",
    "        counts[b] += 1\n",
    "        return counts\n",
    "    else:\n",
    "        new = rules[a + b]\n",
    "        return sum(f(a, new, steps - 1), f(new, b, steps - 1))\n",
    "\n",
    "for i in range(len(polymer) - 1):\n",
    "    counts = sum(counts, f(polymer[i], polymer[i+1], steps=40))\n",
    "print(f'Counts of most common element substracted by counts of least common element: {max(counts.values()) - min(counts.values())}.')"
   ]
  },
  {
   "cell_type": "code",
   "execution_count": 36,
   "id": "6e6ef4f7",
   "metadata": {},
   "outputs": [
    {
     "name": "stdout",
     "output_type": "stream",
     "text": [
      "\u001b[32mThat's the right answer!  You are one gold star closer to finding the sleigh keys. [Continue to Part Two]\u001b[0m\n",
      "Opening in existing browser session.\n"
     ]
    },
    {
     "name": "stderr",
     "output_type": "stream",
     "text": [
      "[4546:4546:0100/000000.212295:ERROR:sandbox_linux.cc(376)] InitializeSandbox() called with multiple threads in process gpu-process.\n"
     ]
    }
   ],
   "source": [
    "puzzle.answer_a = 2915"
   ]
  },
  {
   "cell_type": "code",
   "execution_count": 61,
   "id": "e1c1873f",
   "metadata": {},
   "outputs": [
    {
     "name": "stdout",
     "output_type": "stream",
     "text": [
      "\u001b[32mThat's the right answer!  You are one gold star closer to finding the sleigh keys.You have completed Day 14! You can [Shareon\n",
      "  Twitter\n",
      "Mastodon] this victory or [Return to Your Advent Calendar].\u001b[0m\n",
      "Opening in existing browser session.\n"
     ]
    },
    {
     "name": "stderr",
     "output_type": "stream",
     "text": [
      "[9673:9673:0100/000000.477771:ERROR:sandbox_linux.cc(376)] InitializeSandbox() called with multiple threads in process gpu-process.\n"
     ]
    }
   ],
   "source": [
    "puzzle.answer_b = 3353146900153"
   ]
  }
 ],
 "metadata": {
  "kernelspec": {
   "display_name": "Python 3",
   "language": "python",
   "name": "python3"
  },
  "language_info": {
   "codemirror_mode": {
    "name": "ipython",
    "version": 3
   },
   "file_extension": ".py",
   "mimetype": "text/x-python",
   "name": "python",
   "nbconvert_exporter": "python",
   "pygments_lexer": "ipython3",
   "version": "3.8.10"
  }
 },
 "nbformat": 4,
 "nbformat_minor": 5
}
