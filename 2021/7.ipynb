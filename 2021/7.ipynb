{
 "cells": [
  {
   "cell_type": "code",
   "execution_count": 74,
   "id": "05a5bd73",
   "metadata": {},
   "outputs": [],
   "source": [
    "from copy import copy\n",
    "from aocd.models import Puzzle\n",
    "puzzle = Puzzle(year=2021, day=7)\n",
    "data = puzzle.input_data.split('\\n')"
   ]
  },
  {
   "cell_type": "code",
   "execution_count": 48,
   "id": "e105aade",
   "metadata": {},
   "outputs": [],
   "source": [
    "data = '''\n",
    "16,1,2,0,4,2,7,1,2,14\n",
    "'''\n",
    "data = data.split('\\n')[1:-1]"
   ]
  },
  {
   "cell_type": "code",
   "execution_count": 40,
   "id": "f0a853fc",
   "metadata": {},
   "outputs": [
    {
     "name": "stdout",
     "output_type": "stream",
     "text": [
      "median: 321, total fuel: 343441.\n"
     ]
    }
   ],
   "source": [
    "positions = [int(number) for number in data[0].split(',')]\n",
    "n = len(positions)\n",
    "median = sorted(positions)[n // 2]\n",
    "total_fuel = sum([abs(p - median) for p in positions]\n",
    "print(f'median: {median}, total fuel: {total_fuel}.')"
   ]
  },
  {
   "cell_type": "code",
   "execution_count": 41,
   "id": "6e6ef4f7",
   "metadata": {},
   "outputs": [
    {
     "name": "stdout",
     "output_type": "stream",
     "text": [
      "\u001b[32mThat's the right answer!  You are one gold star closer to finding the sleigh keys. [Continue to Part Two]\u001b[0m\n",
      "Opening in existing browser session.\n"
     ]
    },
    {
     "name": "stderr",
     "output_type": "stream",
     "text": [
      "[16456:16456:0100/000000.751992:ERROR:sandbox_linux.cc(376)] InitializeSandbox() called with multiple threads in process gpu-process.\n"
     ]
    }
   ],
   "source": [
    "puzzle.answer_a = 343441"
   ]
  },
  {
   "cell_type": "code",
   "execution_count": 75,
   "id": "ae6ccb42",
   "metadata": {},
   "outputs": [],
   "source": [
    "positions = [int(number) for number in data[0].split(',')]\n",
    "n = len(positions)\n",
    "\n",
    "def cost(a):\n",
    "    distances = [abs(p - a) for p in positions]\n",
    "    costs = [(d + 1) * d // 2 for d in distances]\n",
    "    return sum(costs)"
   ]
  },
  {
   "cell_type": "code",
   "execution_count": 77,
   "id": "057925d7",
   "metadata": {},
   "outputs": [
    {
     "name": "stdout",
     "output_type": "stream",
     "text": [
      "Optimal position: 473, optimal cost: 98925151\n"
     ]
    }
   ],
   "source": [
    "p = 321\n",
    "optimal_cost = cost(p)\n",
    "while True:\n",
    "    p += 1\n",
    "    new_cost = cost(p)\n",
    "    if new_cost <= optimal_cost:\n",
    "        optimal_cost = new_cost\n",
    "    else:\n",
    "        print(f'Optimal position: {p - 1}, optimal cost: {optimal_cost}')\n",
    "        break"
   ]
  },
  {
   "cell_type": "code",
   "execution_count": 78,
   "id": "e1c1873f",
   "metadata": {},
   "outputs": [
    {
     "name": "stdout",
     "output_type": "stream",
     "text": [
      "\u001b[32mThat's the right answer!  You are one gold star closer to finding the sleigh keys.You have completed Day 7! You can [Shareon\n",
      "  Twitter\n",
      "Mastodon] this victory or [Return to Your Advent Calendar].\u001b[0m\n",
      "Opening in existing browser session.\n"
     ]
    },
    {
     "name": "stderr",
     "output_type": "stream",
     "text": [
      "[16735:16735:0100/000000.312548:ERROR:sandbox_linux.cc(376)] InitializeSandbox() called with multiple threads in process gpu-process.\n"
     ]
    }
   ],
   "source": [
    "puzzle.answer_b = 98925151"
   ]
  }
 ],
 "metadata": {
  "kernelspec": {
   "display_name": "Python 3",
   "language": "python",
   "name": "python3"
  },
  "language_info": {
   "codemirror_mode": {
    "name": "ipython",
    "version": 3
   },
   "file_extension": ".py",
   "mimetype": "text/x-python",
   "name": "python",
   "nbconvert_exporter": "python",
   "pygments_lexer": "ipython3",
   "version": "3.8.10"
  }
 },
 "nbformat": 4,
 "nbformat_minor": 5
}
