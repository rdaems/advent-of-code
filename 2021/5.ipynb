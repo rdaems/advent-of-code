{
 "cells": [
  {
   "cell_type": "code",
   "execution_count": 44,
   "id": "d400b90b",
   "metadata": {},
   "outputs": [],
   "source": [
    "from copy import copy\n",
    "from aocd.models import Puzzle\n",
    "puzzle = Puzzle(year=2021, day=5)\n",
    "data = puzzle.input_data.split('\\n')"
   ]
  },
  {
   "cell_type": "code",
   "execution_count": 2,
   "id": "540053fa",
   "metadata": {},
   "outputs": [],
   "source": [
    "data = '''\n",
    "0,9 -> 5,9\n",
    "8,0 -> 0,8\n",
    "9,4 -> 3,4\n",
    "2,2 -> 2,1\n",
    "7,0 -> 7,4\n",
    "6,4 -> 2,0\n",
    "0,9 -> 2,9\n",
    "3,4 -> 1,4\n",
    "0,0 -> 8,8\n",
    "5,5 -> 8,2\n",
    "'''\n",
    "data = data.split('\\n')[1:-1]"
   ]
  },
  {
   "cell_type": "code",
   "execution_count": 50,
   "id": "51e4cdb2",
   "metadata": {},
   "outputs": [],
   "source": [
    "def sign(x):\n",
    "    if x > 0:\n",
    "        return 1\n",
    "    elif x < 0:\n",
    "        return -1\n",
    "    elif x == 0:\n",
    "        return 0\n",
    "\n",
    "class Line:\n",
    "    def __init__(self, description):\n",
    "        start, end = description.split(' -> ')\n",
    "        self.i0, self.j0 = [int(x) for x in start.split(',')]\n",
    "        self.i1, self.j1 = [int(x) for x in end.split(',')]\n",
    "        self.di = sign(self.i1 - self.i0)\n",
    "        self.dj = sign(self.j1 - self.j0)\n",
    "\n",
    "    def max(self):\n",
    "        return max(self.i0, self.j0, self.i1, self.j1)\n",
    "\n",
    "    def draw(self, canvas):\n",
    "        if self.dj == 0:\n",
    "            i = self.i0\n",
    "            while i != self.i1 + self.di:\n",
    "                canvas[i][self.j0] += 1\n",
    "                i += self.di\n",
    "        elif self.di == 0:\n",
    "            j = self.j0\n",
    "            while j != self.j1 + self.dj:\n",
    "                canvas[self.i0][j] += 1\n",
    "                j += self.dj\n",
    "        else:\n",
    "            i, j = self.i0, self.j0\n",
    "            while i != self.i1 + self.di:\n",
    "                canvas[i][j] += 1\n",
    "                i += self.di\n",
    "                j += self.dj"
   ]
  },
  {
   "cell_type": "code",
   "execution_count": 51,
   "id": "85420745",
   "metadata": {},
   "outputs": [
    {
     "name": "stdout",
     "output_type": "stream",
     "text": [
      "Lines overlap at least two times at 21373 points.\n"
     ]
    }
   ],
   "source": [
    "lines = [Line(d) for d in data]\n",
    "n = max([line.max() for line in lines]) + 1\n",
    "\n",
    "canvas = [[0 for _ in range(n)] for _ in range(n)]\n",
    "for line in lines:\n",
    "    line.draw(canvas)\n",
    "\n",
    "# for c in canvas:\n",
    "#     c = [str(i) for i in c]\n",
    "#     print(' '.join(c))\n",
    "\n",
    "counter = 0\n",
    "for i in range(n):\n",
    "    for j in range(n):\n",
    "        counter += canvas[i][j] > 1\n",
    "print(f'Lines overlap at least two times at {counter} points.')"
   ]
  },
  {
   "cell_type": "code",
   "execution_count": 49,
   "id": "9833f857",
   "metadata": {},
   "outputs": [
    {
     "name": "stdout",
     "output_type": "stream",
     "text": [
      "\u001b[32mThat's the right answer!  You are one gold star closer to finding the sleigh keys. [Continue to Part Two]\u001b[0m\n",
      "Opening in existing browser session.\n"
     ]
    },
    {
     "name": "stderr",
     "output_type": "stream",
     "text": [
      "[5457:5457:0100/000000.394830:ERROR:sandbox_linux.cc(376)] InitializeSandbox() called with multiple threads in process gpu-process.\n"
     ]
    }
   ],
   "source": [
    "puzzle.answer_a = counter"
   ]
  },
  {
   "cell_type": "code",
   "execution_count": 52,
   "id": "913b7ad3",
   "metadata": {},
   "outputs": [
    {
     "name": "stdout",
     "output_type": "stream",
     "text": [
      "\u001b[32mThat's the right answer!  You are one gold star closer to finding the sleigh keys.You have completed Day 5! You can [Shareon\n",
      "  Twitter\n",
      "Mastodon] this victory or [Return to Your Advent Calendar].\u001b[0m\n",
      "Opening in existing browser session.\n"
     ]
    },
    {
     "name": "stderr",
     "output_type": "stream",
     "text": [
      "[5560:5560:0100/000000.690012:ERROR:sandbox_linux.cc(376)] InitializeSandbox() called with multiple threads in process gpu-process.\n"
     ]
    }
   ],
   "source": [
    "puzzle.answer_b = counter"
   ]
  },
  {
   "cell_type": "code",
   "execution_count": null,
   "id": "7c82479a",
   "metadata": {},
   "outputs": [],
   "source": []
  }
 ],
 "metadata": {
  "kernelspec": {
   "display_name": "Python 3",
   "language": "python",
   "name": "python3"
  },
  "language_info": {
   "codemirror_mode": {
    "name": "ipython",
    "version": 3
   },
   "file_extension": ".py",
   "mimetype": "text/x-python",
   "name": "python",
   "nbconvert_exporter": "python",
   "pygments_lexer": "ipython3",
   "version": "3.8.10"
  }
 },
 "nbformat": 4,
 "nbformat_minor": 5
}
