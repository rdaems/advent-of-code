{
 "cells": [
  {
   "cell_type": "code",
   "execution_count": 4,
   "id": "05a5bd73",
   "metadata": {},
   "outputs": [],
   "source": [
    "from copy import copy\n",
    "from aocd.models import Puzzle\n",
    "from collections import defaultdict\n",
    "puzzle = Puzzle(year=2021, day=20)\n",
    "data = puzzle.input_data.split('\\n')"
   ]
  },
  {
   "cell_type": "code",
   "execution_count": 2,
   "id": "8387c738",
   "metadata": {},
   "outputs": [],
   "source": [
    "data = '''\n",
    "..#.#..#####.#.#.#.###.##.....###.##.#..###.####..#####..#....#..#..##..###..######.###...####..#..#####..##..#.#####...##.#.#..#.##..#.#......#.###.######.###.####...#.##.##..#..#..#####.....#.#....###..#.##......#.....#..#..#..##..#...##.######.####.####.#.#...#.......#..#.#.#...####.##.#......#..#...##.#.##..#...##.#.##..###.#......#.#.......#.#.#.####.###.##...#.....####.#..#..#.##.#....##..#.####....##...##..#...#......#.#.......#.......##..####..#...#.#.#...##..#.#..###..#####........#..####......#..#\n",
    "\n",
    "#..#.\n",
    "#....\n",
    "##..#\n",
    "..#..\n",
    "..###\n",
    "'''\n",
    "data = data.split('\\n')[1:-1]"
   ]
  },
  {
   "cell_type": "code",
   "execution_count": 21,
   "id": "c0c30a03",
   "metadata": {},
   "outputs": [
    {
     "name": "stdout",
     "output_type": "stream",
     "text": [
      "Image has 15527 lit pixels.\n"
     ]
    }
   ],
   "source": [
    "code = [int(x == '#') for x in data[0]]\n",
    "def get_code(l):\n",
    "    i = int(''.join([str(x) for x in l]), 2)\n",
    "    return code[i]\n",
    "\n",
    "class Image:\n",
    "    def __init__(self, image):\n",
    "        if get_code([0] * 9):\n",
    "            if get_code([1] * 9):\n",
    "                raise ValueError('Method is only defined for first bit 0, or first bit 1 and last bit 0')\n",
    "            else:\n",
    "                self.swap_background = True\n",
    "        else:\n",
    "            self.swap_background = False\n",
    "        self.background = 0\n",
    "        self.i0, self.i1 = 0, len(image)\n",
    "        self.j0, self.j1 = 0, len(image[0])\n",
    "        self.pixels = defaultdict(lambda: 0)\n",
    "        for i, j in self.iterate():\n",
    "            self.pixels[(i, j)] = int(image[i][j] == '#')\n",
    "\n",
    "    def iterate(self):\n",
    "        for i in range(self.i0, self.i1):\n",
    "            for j in range(self.j0, self.j1):\n",
    "                yield i, j\n",
    "\n",
    "    def enlarge(self):\n",
    "        self.i0 -= 1\n",
    "        self.i1 += 1\n",
    "        self.j0 -= 1\n",
    "        self.j1 += 1\n",
    "\n",
    "    def enhance(self):\n",
    "        self.enlarge()\n",
    "        new_pixels = defaultdict(lambda: self.background)\n",
    "        for i, j in self.iterate():\n",
    "            neighbours = [(i + k - 1, j + l - 1) for k in range(3) for l in range(3)]\n",
    "            new_pixels[(i, j)] = get_code([self.pixels[n] for n in neighbours])\n",
    "        self.pixels = new_pixels\n",
    "        if self.swap_background:\n",
    "            self.background = 1 - self.background\n",
    "\n",
    "    def visualize(self):\n",
    "        output = [['.' for _ in range(self.i1 - self.i0)] for _ in range(self.j1 - self.j0)]\n",
    "        for i, j in self.iterate():\n",
    "            if self.pixels[(i, j)]:\n",
    "                output[i - self.i0][j - self.j0] = '#'\n",
    "        for line in output:\n",
    "            print(''.join(line))\n",
    "\n",
    "    @property\n",
    "    def num_lit_pixels(self):\n",
    "        return sum(self.pixels.values())\n",
    "\n",
    "image = Image(data[2:])\n",
    "\n",
    "for step in range(50):\n",
    "    image.enhance()\n",
    "\n",
    "print(f'Image has {image.num_lit_pixels} lit pixels.')"
   ]
  },
  {
   "cell_type": "code",
   "execution_count": 19,
   "id": "6e6ef4f7",
   "metadata": {},
   "outputs": [
    {
     "name": "stdout",
     "output_type": "stream",
     "text": [
      "\u001b[32mThat's the right answer!  You are one gold star closer to finding the sleigh keys. [Continue to Part Two]\u001b[0m\n",
      "Opening in existing browser session.\n"
     ]
    },
    {
     "name": "stderr",
     "output_type": "stream",
     "text": [
      "[8442:8442:0100/000000.239286:ERROR:sandbox_linux.cc(376)] InitializeSandbox() called with multiple threads in process gpu-process.\n"
     ]
    }
   ],
   "source": [
    "puzzle.answer_a = 5218"
   ]
  },
  {
   "cell_type": "code",
   "execution_count": 22,
   "id": "e1c1873f",
   "metadata": {},
   "outputs": [
    {
     "name": "stdout",
     "output_type": "stream",
     "text": [
      "\u001b[32mThat's the right answer!  You are one gold star closer to finding the sleigh keys.You have completed Day 20! You can [Shareon\n",
      "  Twitter\n",
      "Mastodon] this victory or [Return to Your Advent Calendar].\u001b[0m\n",
      "Opening in existing browser session.\n"
     ]
    },
    {
     "name": "stderr",
     "output_type": "stream",
     "text": [
      "[8539:8539:0100/000000.199421:ERROR:sandbox_linux.cc(376)] InitializeSandbox() called with multiple threads in process gpu-process.\n"
     ]
    }
   ],
   "source": [
    "puzzle.answer_b = 15527"
   ]
  }
 ],
 "metadata": {
  "kernelspec": {
   "display_name": "Python 3",
   "language": "python",
   "name": "python3"
  },
  "language_info": {
   "codemirror_mode": {
    "name": "ipython",
    "version": 3
   },
   "file_extension": ".py",
   "mimetype": "text/x-python",
   "name": "python",
   "nbconvert_exporter": "python",
   "pygments_lexer": "ipython3",
   "version": "3.8.10"
  }
 },
 "nbformat": 4,
 "nbformat_minor": 5
}
