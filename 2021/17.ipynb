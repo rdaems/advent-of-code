{
 "cells": [
  {
   "cell_type": "code",
   "execution_count": 13,
   "id": "05a5bd73",
   "metadata": {},
   "outputs": [],
   "source": [
    "from copy import copy\n",
    "from aocd.models import Puzzle\n",
    "from itertools import chain\n",
    "from functools import lru_cache\n",
    "puzzle = Puzzle(year=2021, day=17)\n",
    "data = puzzle.input_data.split('\\n')"
   ]
  },
  {
   "cell_type": "code",
   "execution_count": 2,
   "id": "e105aade",
   "metadata": {},
   "outputs": [],
   "source": [
    "data = '''\n",
    "target area: x=20..30, y=-10..-5\n",
    "'''\n",
    "data = data.split('\\n')[1:-1]"
   ]
  },
  {
   "cell_type": "code",
   "execution_count": 16,
   "id": "8565b9cb",
   "metadata": {},
   "outputs": [
    {
     "name": "stdout",
     "output_type": "stream",
     "text": [
      "Maximum height: 7750.\n"
     ]
    }
   ],
   "source": [
    "_, _, x, y = data[0].split(' ')\n",
    "x = [int(i) for i in x[2:-1].split('..')]\n",
    "y = [int(i) for i in y[2:].split('..')]\n",
    "vy_f = - y[0] - 1\n",
    "max_height = (vy_f + 1) * vy_f // 2\n",
    "\n",
    "print(f'Maximum height: {max_height}.')"
   ]
  },
  {
   "cell_type": "code",
   "execution_count": 30,
   "id": "6e6ef4f7",
   "metadata": {},
   "outputs": [
    {
     "name": "stdout",
     "output_type": "stream",
     "text": [
      "\u001b[32mThat's the right answer!  You are one gold star closer to finding the sleigh keys. [Continue to Part Two]\u001b[0m\n",
      "Opening in existing browser session.\n"
     ]
    }
   ],
   "source": [
    "puzzle.answer_a = 7750"
   ]
  },
  {
   "cell_type": "code",
   "execution_count": 29,
   "id": "a6aada0e",
   "metadata": {},
   "outputs": [
    {
     "name": "stdout",
     "output_type": "stream",
     "text": [
      "Number of distinct solutions: 4120.\n"
     ]
    }
   ],
   "source": [
    "_, _, x_lim, y_lim = data[0].split(' ')\n",
    "x_lim = [int(i) for i in x_lim[2:-1].split('..')]\n",
    "y_lim = [int(i) for i in y_lim[2:].split('..')]\n",
    "\n",
    "solutions = []\n",
    "for vx_0 in range(x_lim[1] + 1):\n",
    "    for vy_0 in range(y_lim[0], - y_lim[0] + 1):\n",
    "        x, y, vx, vy = 0, 0, vx_0, vy_0\n",
    "        while x <= x_lim[1] + 1 and y >= y_lim[0] - 1:\n",
    "            x += vx\n",
    "            y += vy\n",
    "            vx = max(vx - 1, 0)\n",
    "            vy -= 1\n",
    "            if x_lim[0] <= x <= x_lim[1] and y_lim[0] <= y <= y_lim[1]:\n",
    "                solutions.append((vx_0, vy_0))\n",
    "\n",
    "print(f'Number of distinct solutions: {len(set(solutions))}.')"
   ]
  },
  {
   "cell_type": "code",
   "execution_count": 15,
   "id": "e1c1873f",
   "metadata": {},
   "outputs": [
    {
     "name": "stdout",
     "output_type": "stream",
     "text": [
      "\u001b[32mThat's the right answer!  You are one gold star closer to finding the sleigh keys.You have completed Day 17! You can [Shareon\n",
      "  Twitter\n",
      "Mastodon] this victory or [Return to Your Advent Calendar].\u001b[0m\n",
      "Opening in existing browser session.\n"
     ]
    }
   ],
   "source": [
    "puzzle.answer_b = 4120"
   ]
  }
 ],
 "metadata": {
  "kernelspec": {
   "display_name": "Python 3 (ipykernel)",
   "language": "python",
   "name": "python3"
  },
  "language_info": {
   "codemirror_mode": {
    "name": "ipython",
    "version": 3
   },
   "file_extension": ".py",
   "mimetype": "text/x-python",
   "name": "python",
   "nbconvert_exporter": "python",
   "pygments_lexer": "ipython3",
   "version": "3.8.10"
  }
 },
 "nbformat": 4,
 "nbformat_minor": 5
}
