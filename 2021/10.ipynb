{
 "cells": [
  {
   "cell_type": "code",
   "execution_count": 12,
   "id": "05a5bd73",
   "metadata": {},
   "outputs": [],
   "source": [
    "from copy import copy\n",
    "from aocd.models import Puzzle\n",
    "puzzle = Puzzle(year=2021, day=10)\n",
    "data = puzzle.input_data.split('\\n')"
   ]
  },
  {
   "cell_type": "code",
   "execution_count": 1,
   "id": "e105aade",
   "metadata": {},
   "outputs": [],
   "source": [
    "data = '''\n",
    "[({(<(())[]>[[{[]{<()<>>\n",
    "[(()[<>])]({[<{<<[]>>(\n",
    "{([(<{}[<>[]}>{[]{[(<()>\n",
    "(((({<>}<{<{<>}{[]{[]{}\n",
    "[[<[([]))<([[{}[[()]]]\n",
    "[{[{({}]{}}([{[{{{}}([]\n",
    "{<[[]]>}<{[{[{[]{()[[[]\n",
    "[<(<(<(<{}))><([]([]()\n",
    "<{([([[(<>()){}]>(<<{{\n",
    "<{([{{}}[<[[[<>{}]]]>[]]\n",
    "'''\n",
    "data = data.split('\\n')[1:-1]"
   ]
  },
  {
   "cell_type": "code",
   "execution_count": 13,
   "id": "3c3a5e3e",
   "metadata": {},
   "outputs": [
    {
     "name": "stdout",
     "output_type": "stream",
     "text": [
      "Score: 290691.\n"
     ]
    }
   ],
   "source": [
    "score = {\n",
    "    ')': 3,\n",
    "    ']': 57,\n",
    "    '}': 1197,\n",
    "    '>': 25137,\n",
    "}\n",
    "\n",
    "closing_symbol = {\n",
    "    '(': ')',\n",
    "    '[': ']',\n",
    "    '{': '}',\n",
    "    '<': '>',\n",
    "}\n",
    "\n",
    "def start(symbol):\n",
    "    if symbol in ['(', '[', '{', '<']:\n",
    "        return True\n",
    "    elif symbol in [')', ']', '}', '>']:\n",
    "        return False\n",
    "    else:\n",
    "        raise ValueError(f'Unknown symbol {symbol}.')\n",
    "\n",
    "def check(line):\n",
    "    chunks = []\n",
    "    for c in line:\n",
    "        if start(c):\n",
    "            chunks.append(c)\n",
    "        else:\n",
    "            if len(chunks) == 0:\n",
    "                return score[c]\n",
    "            elif closing_symbol[chunks[-1]] == c:\n",
    "                chunks.pop()\n",
    "            else:\n",
    "                return score[c]\n",
    "    return 0\n",
    "\n",
    "score = sum([check(line) for line in data])\n",
    "print(f'Score: {score}.')"
   ]
  },
  {
   "cell_type": "code",
   "execution_count": 14,
   "id": "6e6ef4f7",
   "metadata": {},
   "outputs": [
    {
     "name": "stdout",
     "output_type": "stream",
     "text": [
      "\u001b[32mThat's the right answer!  You are one gold star closer to finding the sleigh keys. [Continue to Part Two]\u001b[0m\n",
      "Opening in existing browser session.\n"
     ]
    },
    {
     "name": "stderr",
     "output_type": "stream",
     "text": [
      "[5637:5637:0100/000000.866217:ERROR:sandbox_linux.cc(376)] InitializeSandbox() called with multiple threads in process gpu-process.\n"
     ]
    }
   ],
   "source": [
    "puzzle.answer_a = 290691"
   ]
  },
  {
   "cell_type": "code",
   "execution_count": 23,
   "id": "209acafd",
   "metadata": {},
   "outputs": [
    {
     "name": "stdout",
     "output_type": "stream",
     "text": [
      "Score: 2768166558.\n"
     ]
    }
   ],
   "source": [
    "score_values = {\n",
    "    '(': 1,\n",
    "    '[': 2,\n",
    "    '{': 3,\n",
    "    '<': 4,\n",
    "}\n",
    "\n",
    "closing_symbol = {\n",
    "    '(': ')',\n",
    "    '[': ']',\n",
    "    '{': '}',\n",
    "    '<': '>',\n",
    "}\n",
    "\n",
    "def start(symbol):\n",
    "    if symbol in ['(', '[', '{', '<']:\n",
    "        return True\n",
    "    elif symbol in [')', ']', '}', '>']:\n",
    "        return False\n",
    "    else:\n",
    "        raise ValueError(f'Unknown symbol {symbol}.')\n",
    "\n",
    "def check(line):\n",
    "    chunks = []\n",
    "    for c in line:\n",
    "        if start(c):\n",
    "            chunks.append(c)\n",
    "        else:\n",
    "            if len(chunks) == 0:\n",
    "                return 0\n",
    "            elif closing_symbol[chunks[-1]] == c:\n",
    "                chunks.pop()\n",
    "            else:\n",
    "                return 0\n",
    "    score = 0\n",
    "    for c in reversed(chunks):\n",
    "        score *= 5\n",
    "        score += score_values[c]\n",
    "    return score\n",
    "\n",
    "scores = sorted([check(line) for line in data if check(line) > 0])\n",
    "# print(scores)\n",
    "score = scores[(len(scores) - 1) // 2]\n",
    "print(f'Score: {score}.')"
   ]
  },
  {
   "cell_type": "code",
   "execution_count": 24,
   "id": "e1c1873f",
   "metadata": {},
   "outputs": [
    {
     "name": "stdout",
     "output_type": "stream",
     "text": [
      "\u001b[32mThat's the right answer!  You are one gold star closer to finding the sleigh keys.You have completed Day 10! You can [Shareon\n",
      "  Twitter\n",
      "Mastodon] this victory or [Return to Your Advent Calendar].\u001b[0m\n",
      "Opening in existing browser session.\n"
     ]
    },
    {
     "name": "stderr",
     "output_type": "stream",
     "text": [
      "[5822:5822:0100/000000.912519:ERROR:sandbox_linux.cc(376)] InitializeSandbox() called with multiple threads in process gpu-process.\n"
     ]
    }
   ],
   "source": [
    "puzzle.answer_b = 2768166558"
   ]
  }
 ],
 "metadata": {
  "kernelspec": {
   "display_name": "Python 3",
   "language": "python",
   "name": "python3"
  },
  "language_info": {
   "codemirror_mode": {
    "name": "ipython",
    "version": 3
   },
   "file_extension": ".py",
   "mimetype": "text/x-python",
   "name": "python",
   "nbconvert_exporter": "python",
   "pygments_lexer": "ipython3",
   "version": "3.8.10"
  }
 },
 "nbformat": 4,
 "nbformat_minor": 5
}
