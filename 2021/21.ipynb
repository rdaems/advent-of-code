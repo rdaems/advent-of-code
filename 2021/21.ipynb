{
 "cells": [
  {
   "cell_type": "code",
   "execution_count": 69,
   "id": "05a5bd73",
   "metadata": {},
   "outputs": [],
   "source": [
    "from copy import copy\n",
    "from aocd.models import Puzzle\n",
    "from collections import defaultdict\n",
    "from itertools import product\n",
    "from math import factorial\n",
    "puzzle = Puzzle(year=2021, day=21)\n",
    "data = puzzle.input_data.split('\\n')"
   ]
  },
  {
   "cell_type": "code",
   "execution_count": 4,
   "id": "8387c738",
   "metadata": {},
   "outputs": [],
   "source": [
    "data = '''\n",
    "Player 1 starting position: 4\n",
    "Player 2 starting position: 8\n",
    "'''\n",
    "data = data.split('\\n')[1:-1]"
   ]
  },
  {
   "cell_type": "code",
   "execution_count": 16,
   "id": "712fb9e8",
   "metadata": {},
   "outputs": [
    {
     "name": "stdout",
     "output_type": "stream",
     "text": [
      "Score of losing player multiplied with the number of die casts: 998088.\n"
     ]
    }
   ],
   "source": [
    "s = [int(x.split(' ')[-1]) for x in data]\n",
    "scores = [0, 0]\n",
    "\n",
    "class Die:\n",
    "    def __init__(self):\n",
    "        self.i = 0\n",
    "        self.counter = 0\n",
    "\n",
    "    def cast(self, n=1):\n",
    "        if n > 1:\n",
    "            return sum(self.cast() for _ in range(n))\n",
    "        self.i = (self.i % 100) + 1\n",
    "        self.counter += 1\n",
    "        return self.i\n",
    "\n",
    "die = Die()\n",
    "\n",
    "player = 0\n",
    "while True:\n",
    "    s[player] = (s[player] - 1 + die.cast(3)) % 10 + 1\n",
    "    scores[player] += s[player]\n",
    "    if scores[player] >= 1000:\n",
    "        score_loser = scores[1 - player]\n",
    "        print(f'Score of losing player multiplied with the number of die casts: {score_loser * die.counter}.')\n",
    "        break\n",
    "    player = 1 - player"
   ]
  },
  {
   "cell_type": "code",
   "execution_count": 17,
   "id": "6e6ef4f7",
   "metadata": {},
   "outputs": [
    {
     "name": "stdout",
     "output_type": "stream",
     "text": [
      "\u001b[32mThat's the right answer!  You are one gold star closer to finding the sleigh keys. [Continue to Part Two]\u001b[0m\n",
      "Opening in existing browser session.\n"
     ]
    },
    {
     "name": "stderr",
     "output_type": "stream",
     "text": [
      "[40659:40659:0100/000000.909392:ERROR:sandbox_linux.cc(376)] InitializeSandbox() called with multiple threads in process gpu-process.\n"
     ]
    }
   ],
   "source": [
    "puzzle.answer_a = 998088"
   ]
  },
  {
   "cell_type": "code",
   "execution_count": 80,
   "id": "8fd0d2ff",
   "metadata": {},
   "outputs": [
    {
     "name": "stdout",
     "output_type": "stream",
     "text": [
      "Number of winning universes of player with most winning universes: 306621346123766.\n"
     ]
    }
   ],
   "source": [
    "num_die_universes = defaultdict(lambda: 0)\n",
    "for p in product([1, 2, 3], repeat=3):\n",
    "    num_die_universes[sum(p)] += 1\n",
    "\n",
    "def calculate(s):\n",
    "    winning_universes = defaultdict(lambda: 0)\n",
    "    losing_universes = defaultdict(lambda: 0)\n",
    "    def play(position, scores=[0], num_universes=1):\n",
    "        if scores[-1] >= 21:\n",
    "            winning_universes[len(scores)] += num_universes\n",
    "            return\n",
    "        else:\n",
    "            losing_universes[len(scores)] += num_universes\n",
    "        for step in [3, 4, 5, 6, 7, 8, 9]:\n",
    "            new_position = (position - 1 + step) % 10 + 1\n",
    "            play(new_position,\n",
    "                scores + [scores[-1] + new_position],\n",
    "                num_universes * num_die_universes[step],\n",
    "            )\n",
    "    play(s)\n",
    "    return winning_universes, losing_universes\n",
    "\n",
    "starting_positions = [int(x.split(' ')[-1]) for x in data]\n",
    "[(w1, l1), (w2, l2)] = [calculate(s) for s in starting_positions]\n",
    "\n",
    "player_1 = sum([n * l2[l - 1] for l, n in w1.items()])\n",
    "player_2 = sum([n * l1[l] for l, n in w2.items()])\n",
    "\n",
    "print(f'Number of winning universes of player with most winning universes: {max(player_1, player_2)}.')"
   ]
  },
  {
   "cell_type": "code",
   "execution_count": 71,
   "id": "e1c1873f",
   "metadata": {},
   "outputs": [
    {
     "name": "stdout",
     "output_type": "stream",
     "text": [
      "\u001b[32mThat's the right answer!  You are one gold star closer to finding the sleigh keys.You have completed Day 21! You can [Shareon\n",
      "  Twitter\n",
      "Mastodon] this victory or [Return to Your Advent Calendar].\u001b[0m\n",
      "Opening in existing browser session.\n"
     ]
    },
    {
     "name": "stderr",
     "output_type": "stream",
     "text": [
      "[44845:44845:0100/000000.271266:ERROR:sandbox_linux.cc(376)] InitializeSandbox() called with multiple threads in process gpu-process.\n"
     ]
    }
   ],
   "source": [
    "puzzle.answer_b = 306621346123766"
   ]
  }
 ],
 "metadata": {
  "kernelspec": {
   "display_name": "Python 3",
   "language": "python",
   "name": "python3"
  },
  "language_info": {
   "codemirror_mode": {
    "name": "ipython",
    "version": 3
   },
   "file_extension": ".py",
   "mimetype": "text/x-python",
   "name": "python",
   "nbconvert_exporter": "python",
   "pygments_lexer": "ipython3",
   "version": "3.8.10"
  }
 },
 "nbformat": 4,
 "nbformat_minor": 5
}
