{
 "cells": [
  {
   "cell_type": "code",
   "execution_count": 129,
   "id": "5889289d",
   "metadata": {},
   "outputs": [],
   "source": [
    "from copy import copy\n",
    "from aocd.models import Puzzle\n",
    "puzzle = Puzzle(year=2021, day=3)\n",
    "data = puzzle.input_data.split('\\n')"
   ]
  },
  {
   "cell_type": "code",
   "execution_count": 116,
   "id": "e18b4fa8",
   "metadata": {},
   "outputs": [],
   "source": [
    "data = '''\n",
    "00100\n",
    "11110\n",
    "10110\n",
    "10111\n",
    "10101\n",
    "01111\n",
    "00111\n",
    "11100\n",
    "10000\n",
    "11001\n",
    "00010\n",
    "01010\n",
    "'''\n",
    "data = data.split('\\n')[1:-1]"
   ]
  },
  {
   "cell_type": "code",
   "execution_count": 123,
   "id": "23ee8c2c",
   "metadata": {},
   "outputs": [],
   "source": [
    "def metrics(data):\n",
    "    summed = [0] * len(data[0])\n",
    "    for d in data:\n",
    "        for i, b in enumerate(d):\n",
    "            summed[i] += int(b)\n",
    "\n",
    "    most_common = [int(2 * s >= len(data)) for s in summed]\n",
    "    least_common = [1 - b for b in most_common]\n",
    "    return most_common, least_common\n",
    "\n",
    "def bits_to_number(bits):\n",
    "    return int(''.join([str(b) for b in bits]), 2)"
   ]
  },
  {
   "cell_type": "code",
   "execution_count": 111,
   "id": "02ab33b2",
   "metadata": {},
   "outputs": [],
   "source": [
    "most_common, least_common = metrics(data)\n",
    "gamma = bits_to_number(most_common)\n",
    "epsilon = bits_to_number(least_common)"
   ]
  },
  {
   "cell_type": "code",
   "execution_count": 112,
   "id": "fc0b4950",
   "metadata": {},
   "outputs": [],
   "source": [
    "puzzle.answer_a = gamma * epsilon"
   ]
  },
  {
   "cell_type": "code",
   "execution_count": 130,
   "id": "8609271c",
   "metadata": {},
   "outputs": [],
   "source": [
    "oxygen = copy(data)\n",
    "i = 0\n",
    "while len(oxygen) > 1:\n",
    "    most_common, _ = metrics(oxygen)\n",
    "    b = most_common[i]\n",
    "    oxygen = [d for d in oxygen if d[i] == str(b)]\n",
    "    i += 1\n",
    "oxygen = bits_to_number(oxygen[0])"
   ]
  },
  {
   "cell_type": "code",
   "execution_count": 131,
   "id": "25013b93",
   "metadata": {},
   "outputs": [],
   "source": [
    "co2 = copy(data)\n",
    "i = 0\n",
    "while len(co2) > 1:\n",
    "    _, least_common = metrics(co2)\n",
    "    b = least_common[i]\n",
    "    co2 = [d for d in co2 if d[i] == str(b)]\n",
    "    i += 1\n",
    "co2 = bits_to_number(co2[0])"
   ]
  },
  {
   "cell_type": "code",
   "execution_count": 132,
   "id": "65ad7ea7",
   "metadata": {},
   "outputs": [
    {
     "name": "stdout",
     "output_type": "stream",
     "text": [
      "\u001b[32mThat's the right answer!  You are one gold star closer to finding the sleigh keys.You have completed Day 3! You can [Shareon\n",
      "  Twitter\n",
      "Mastodon] this victory or [Return to Your Advent Calendar].\u001b[0m\n",
      "Opening in existing browser session.\n"
     ]
    }
   ],
   "source": [
    "puzzle.answer_b = oxygen * co2"
   ]
  },
  {
   "cell_type": "code",
   "execution_count": null,
   "id": "574ee414",
   "metadata": {},
   "outputs": [],
   "source": []
  }
 ],
 "metadata": {
  "kernelspec": {
   "display_name": "Python 3 (ipykernel)",
   "language": "python",
   "name": "python3"
  },
  "language_info": {
   "codemirror_mode": {
    "name": "ipython",
    "version": 3
   },
   "file_extension": ".py",
   "mimetype": "text/x-python",
   "name": "python",
   "nbconvert_exporter": "python",
   "pygments_lexer": "ipython3",
   "version": "3.8.10"
  }
 },
 "nbformat": 4,
 "nbformat_minor": 5
}
