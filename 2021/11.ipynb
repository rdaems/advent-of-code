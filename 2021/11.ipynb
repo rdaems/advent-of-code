{
 "cells": [
  {
   "cell_type": "code",
   "execution_count": 55,
   "id": "05a5bd73",
   "metadata": {},
   "outputs": [],
   "source": [
    "from copy import copy\n",
    "from aocd.models import Puzzle\n",
    "puzzle = Puzzle(year=2021, day=11)\n",
    "data = puzzle.input_data.split('\\n')"
   ]
  },
  {
   "cell_type": "code",
   "execution_count": 51,
   "id": "e105aade",
   "metadata": {},
   "outputs": [],
   "source": [
    "data = '''\n",
    "5483143223\n",
    "2745854711\n",
    "5264556173\n",
    "6141336146\n",
    "6357385478\n",
    "4167524645\n",
    "2176841721\n",
    "6882881134\n",
    "4846848554\n",
    "5283751526\n",
    "'''\n",
    "data = data.split('\\n')[1:-1]"
   ]
  },
  {
   "cell_type": "code",
   "execution_count": 56,
   "id": "3c3a5e3e",
   "metadata": {},
   "outputs": [
    {
     "name": "stdout",
     "output_type": "stream",
     "text": [
      "Total number of flashes at step 100: 1683.\n",
      "All octopuses flashed simultaneously at step 788.\n",
      "All octopuses flashed simultaneously at step 798.\n",
      "All octopuses flashed simultaneously at step 808.\n",
      "All octopuses flashed simultaneously at step 818.\n",
      "All octopuses flashed simultaneously at step 828.\n",
      "All octopuses flashed simultaneously at step 838.\n",
      "All octopuses flashed simultaneously at step 848.\n",
      "All octopuses flashed simultaneously at step 858.\n",
      "All octopuses flashed simultaneously at step 868.\n",
      "All octopuses flashed simultaneously at step 878.\n",
      "All octopuses flashed simultaneously at step 888.\n",
      "All octopuses flashed simultaneously at step 898.\n",
      "All octopuses flashed simultaneously at step 908.\n",
      "All octopuses flashed simultaneously at step 918.\n",
      "All octopuses flashed simultaneously at step 928.\n",
      "All octopuses flashed simultaneously at step 938.\n",
      "All octopuses flashed simultaneously at step 948.\n",
      "All octopuses flashed simultaneously at step 958.\n",
      "All octopuses flashed simultaneously at step 968.\n",
      "All octopuses flashed simultaneously at step 978.\n",
      "All octopuses flashed simultaneously at step 988.\n",
      "All octopuses flashed simultaneously at step 998.\n"
     ]
    }
   ],
   "source": [
    "x = [[int(c) for c in line] for line in data]\n",
    "n = len(x)\n",
    "\n",
    "def adjacent(i, j):\n",
    "    a = [\n",
    "        [i - 1, j - 1],\n",
    "        [i - 1, j],\n",
    "        [i - 1, j + 1],\n",
    "        [i, j + 1],\n",
    "        [i + 1, j + 1],\n",
    "        [i + 1, j],\n",
    "        [i + 1, j - 1],\n",
    "        [i, j - 1],\n",
    "    ]\n",
    "    a = [[k, l] for (k, l) in a if k >= 0 and l >= 0 and k < n and l < n]\n",
    "    return a\n",
    "\n",
    "def flash(x, flashed):\n",
    "    for i in range(n):\n",
    "        for j in range(n):\n",
    "            if x[i][j] > 9 and not flashed[i][j]:\n",
    "                flashed[i][j] = True\n",
    "                for k, l in adjacent(i, j):\n",
    "                    x[k][l] += 1\n",
    "                return True\n",
    "    return False                \n",
    "\n",
    "flashes = 0\n",
    "for step in range(1000):\n",
    "    x = [[c + 1 for c in l] for l in x]\n",
    "    flashed = [[False for _ in range(n)] for _ in range(n)]\n",
    "    while flash(x, flashed):\n",
    "        flashes += 1\n",
    "    all_flashed = 0\n",
    "    for i in range(n):\n",
    "        for j in range(n):\n",
    "            if flashed[i][j]:\n",
    "                x[i][j] = 0\n",
    "                all_flashed += 1\n",
    "    if all_flashed == n * n:\n",
    "        print(f'All octopuses flashed simultaneously at step {step + 1}.')\n",
    "\n",
    "    if step == 99:\n",
    "        print(f'Total number of flashes at step 100: {flashes}.')"
   ]
  },
  {
   "cell_type": "code",
   "execution_count": 45,
   "id": "6e6ef4f7",
   "metadata": {},
   "outputs": [
    {
     "name": "stdout",
     "output_type": "stream",
     "text": [
      "\u001b[32mThat's the right answer!  You are one gold star closer to finding the sleigh keys. [Continue to Part Two]\u001b[0m\n",
      "Opening in existing browser session.\n"
     ]
    },
    {
     "name": "stderr",
     "output_type": "stream",
     "text": [
      "[6542:6542:0100/000000.235750:ERROR:sandbox_linux.cc(376)] InitializeSandbox() called with multiple threads in process gpu-process.\n"
     ]
    }
   ],
   "source": [
    "puzzle.answer_a = 1683"
   ]
  },
  {
   "cell_type": "code",
   "execution_count": 23,
   "id": "8d1f2d1f",
   "metadata": {},
   "outputs": [
    {
     "name": "stdout",
     "output_type": "stream",
     "text": [
      "Score: 2768166558.\n"
     ]
    }
   ],
   "source": []
  },
  {
   "cell_type": "code",
   "execution_count": 57,
   "id": "e1c1873f",
   "metadata": {},
   "outputs": [
    {
     "name": "stdout",
     "output_type": "stream",
     "text": [
      "\u001b[32mThat's the right answer!  You are one gold star closer to finding the sleigh keys.You have completed Day 11! You can [Shareon\n",
      "  Twitter\n",
      "Mastodon] this victory or [Return to Your Advent Calendar].\u001b[0m\n",
      "Opening in existing browser session.\n"
     ]
    },
    {
     "name": "stderr",
     "output_type": "stream",
     "text": [
      "[6703:6703:0100/000000.015469:ERROR:sandbox_linux.cc(376)] InitializeSandbox() called with multiple threads in process gpu-process.\n"
     ]
    }
   ],
   "source": [
    "puzzle.answer_b = 788"
   ]
  }
 ],
 "metadata": {
  "kernelspec": {
   "display_name": "Python 3",
   "language": "python",
   "name": "python3"
  },
  "language_info": {
   "codemirror_mode": {
    "name": "ipython",
    "version": 3
   },
   "file_extension": ".py",
   "mimetype": "text/x-python",
   "name": "python",
   "nbconvert_exporter": "python",
   "pygments_lexer": "ipython3",
   "version": "3.8.10"
  }
 },
 "nbformat": 4,
 "nbformat_minor": 5
}
