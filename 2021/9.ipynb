{
 "cells": [
  {
   "cell_type": "code",
   "execution_count": 59,
   "id": "05a5bd73",
   "metadata": {},
   "outputs": [],
   "source": [
    "from copy import copy\n",
    "from aocd.models import Puzzle\n",
    "puzzle = Puzzle(year=2021, day=9)\n",
    "data = puzzle.input_data.split('\\n')"
   ]
  },
  {
   "cell_type": "code",
   "execution_count": 31,
   "id": "e105aade",
   "metadata": {},
   "outputs": [],
   "source": [
    "data = '''\n",
    "2199943210\n",
    "3987894921\n",
    "9856789892\n",
    "8767896789\n",
    "9899965678\n",
    "'''\n",
    "data = data.split('\\n')[1:-1]"
   ]
  },
  {
   "cell_type": "code",
   "execution_count": 62,
   "id": "3c3a5e3e",
   "metadata": {},
   "outputs": [
    {
     "name": "stdout",
     "output_type": "stream",
     "text": [
      "Risk: 512.\n"
     ]
    }
   ],
   "source": [
    "z = [[int(l) for l in line] for line in data]\n",
    "h = len(z)\n",
    "w = len(z[0])\n",
    "low = [[False for _ in range(w)] for _ in range(h)]\n",
    "for i in range(h):\n",
    "    for j in range(w):\n",
    "        adjacents = []\n",
    "        for k, l in [[i-1, j], [i, j+1], [i+1, j], [i, j-1]]:\n",
    "            if k >= 0 and l >= 0 and k < h and l < w:\n",
    "                adjacents.append(z[k][l])\n",
    "        if min(adjacents) > z[i][j]:\n",
    "            low[i][j] = True\n",
    "risk = 0\n",
    "for i in range(h):\n",
    "    for j in range(w):\n",
    "        if low[i][j]:\n",
    "            risk += z[i][j] + 1\n",
    "\n",
    "print(f'Risk: {risk}.')"
   ]
  },
  {
   "cell_type": "code",
   "execution_count": 30,
   "id": "6e6ef4f7",
   "metadata": {},
   "outputs": [
    {
     "name": "stdout",
     "output_type": "stream",
     "text": [
      "\u001b[32mThat's the right answer!  You are one gold star closer to finding the sleigh keys. [Continue to Part Two]\u001b[0m\n",
      "Opening in existing browser session.\n"
     ]
    },
    {
     "name": "stderr",
     "output_type": "stream",
     "text": [
      "[5364:5364:0100/000000.206931:ERROR:sandbox_linux.cc(376)] InitializeSandbox() called with multiple threads in process gpu-process.\n"
     ]
    }
   ],
   "source": [
    "puzzle.answer_a = 512"
   ]
  },
  {
   "cell_type": "code",
   "execution_count": 60,
   "id": "85f72321",
   "metadata": {},
   "outputs": [
    {
     "name": "stdout",
     "output_type": "stream",
     "text": [
      "Product of sizes of 3 largest basins: 1600104.\n"
     ]
    }
   ],
   "source": [
    "z = [[int(l) for l in line] for line in data]\n",
    "h = len(z)\n",
    "w = len(z[0])\n",
    "basins = [[-1 for _ in range(w)] for _ in range(h)]\n",
    "c = 0\n",
    "for i in range(h):\n",
    "    for j in range(w):\n",
    "        if z[i][j] < 9:\n",
    "            basins[i][j] = c\n",
    "            c += 1\n",
    "\n",
    "def change(x, a, b):\n",
    "    for i in range(h):\n",
    "        for j in range(w):\n",
    "            if x[i][j] == a:\n",
    "                x[i][j] = b\n",
    "\n",
    "old_num_basins, num_basins = -1, 0\n",
    "\n",
    "while old_num_basins != num_basins:\n",
    "    old_num_basins = num_basins\n",
    "    for i in range(h):\n",
    "        for j in range(w):\n",
    "            if basins[i][j] < 0:\n",
    "                continue\n",
    "            for k, l in [[i-1, j], [i, j+1], [i+1, j], [i, j-1]]:\n",
    "                if k >= 0 and l >= 0 and k < h and l < w:\n",
    "                    if not basins[k][l] < 0:\n",
    "                        change(basins, basins[k][l], basins[i][j])\n",
    "    num_basins = len({b for line in basins for b in line}) - 1\n",
    "\n",
    "basins = [b for line in basins for b in line]\n",
    "values = set(basins)\n",
    "values.remove(-1)\n",
    "sizes = sorted([basins.count(v) for v in values])\n",
    "product_3_largest = sizes[-3] * sizes[-2] * sizes[-1]\n",
    "\n",
    "print(f'Product of sizes of 3 largest basins: {product_3_largest}.')"
   ]
  },
  {
   "cell_type": "code",
   "execution_count": 61,
   "id": "e1c1873f",
   "metadata": {},
   "outputs": [
    {
     "name": "stdout",
     "output_type": "stream",
     "text": [
      "\u001b[32mThat's the right answer!  You are one gold star closer to finding the sleigh keys.You have completed Day 9! You can [Shareon\n",
      "  Twitter\n",
      "Mastodon] this victory or [Return to Your Advent Calendar].\u001b[0m\n",
      "Opening in existing browser session.\n"
     ]
    },
    {
     "name": "stderr",
     "output_type": "stream",
     "text": [
      "[5670:5670:0100/000000.263769:ERROR:sandbox_linux.cc(376)] InitializeSandbox() called with multiple threads in process gpu-process.\n"
     ]
    }
   ],
   "source": [
    "puzzle.answer_b = 1600104"
   ]
  }
 ],
 "metadata": {
  "kernelspec": {
   "display_name": "Python 3",
   "language": "python",
   "name": "python3"
  },
  "language_info": {
   "codemirror_mode": {
    "name": "ipython",
    "version": 3
   },
   "file_extension": ".py",
   "mimetype": "text/x-python",
   "name": "python",
   "nbconvert_exporter": "python",
   "pygments_lexer": "ipython3",
   "version": "3.8.10"
  }
 },
 "nbformat": 4,
 "nbformat_minor": 5
}
