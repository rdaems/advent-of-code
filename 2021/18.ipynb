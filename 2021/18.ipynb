{
 "cells": [
  {
   "cell_type": "code",
   "execution_count": 106,
   "id": "05a5bd73",
   "metadata": {},
   "outputs": [],
   "source": [
    "from copy import copy\n",
    "from aocd.models import Puzzle\n",
    "puzzle = Puzzle(year=2021, day=18)\n",
    "data = puzzle.input_data.split('\\n')"
   ]
  },
  {
   "cell_type": "code",
   "execution_count": null,
   "id": "8387c738",
   "metadata": {},
   "outputs": [],
   "source": [
    "data = '''\n",
    "[[[0,[4,5]],[0,0]],[[[4,5],[2,6]],[9,5]]]\n",
    "[7,[[[3,7],[4,3]],[[6,3],[8,8]]]]\n",
    "[[2,[[0,8],[3,4]]],[[[6,7],1],[7,[1,6]]]]\n",
    "[[[[2,4],7],[6,[0,5]]],[[[6,8],[2,8]],[[2,1],[4,5]]]]\n",
    "[7,[5,[[3,8],[1,4]]]]\n",
    "[[2,[2,2]],[8,[8,1]]]\n",
    "[2,9]\n",
    "[1,[[[9,3],9],[[9,0],[0,7]]]]\n",
    "[[[5,[7,4]],7],1]\n",
    "[[[[4,2],2],6],[8,7]]\n",
    "'''\n",
    "data = data.split('\\n')[1:-1]"
   ]
  },
  {
   "cell_type": "code",
   "execution_count": 103,
   "id": "8565b9cb",
   "metadata": {},
   "outputs": [],
   "source": [
    "import json\n",
    "\n",
    "class Pair:\n",
    "    def __init__(self, a, b, parent=None):\n",
    "        self.parent = parent\n",
    "        self.a = a\n",
    "        self.b = b\n",
    "        if type(self.a) is Pair:\n",
    "            self.a.parent = self\n",
    "        if type(self.b) is Pair:\n",
    "            self.b.parent = self\n",
    "    \n",
    "    def __str__(self):\n",
    "        return f'[{self.a},{self.b}]'\n",
    "\n",
    "    def add_left(self, x, requester):\n",
    "        if requester is self.a and self.parent:\n",
    "            self.parent.add_left(x, self)\n",
    "        elif requester is self.b:\n",
    "            if type(self.a) is int:\n",
    "                self.a += x\n",
    "            else:\n",
    "                self.a.add_right(x, self)\n",
    "        elif requester is self.parent:\n",
    "            if type(self.a) is int:\n",
    "                self.a += x\n",
    "            else:\n",
    "                self.a.add_left(x, self)\n",
    "\n",
    "    def add_right(self, x, requester):\n",
    "        if requester is self.a:\n",
    "            if type(self.b) is int:\n",
    "                self.b += x\n",
    "            else:\n",
    "                self.b.add_left(x, self)\n",
    "        elif requester is self.b and self.parent:\n",
    "            self.parent.add_right(x, self)\n",
    "        elif requester is self.parent:\n",
    "            if type(self.b) is int:\n",
    "                self.b += x\n",
    "            else:\n",
    "                self.b.add_right(x, self)\n",
    "\n",
    "    def reduce(self):\n",
    "        if not self.explode():\n",
    "            self.split()\n",
    "\n",
    "    def explode(self, nest=1):\n",
    "        if nest > 4:\n",
    "#             print(f'explode {self}.')\n",
    "            self.parent.add_left(self.a, self)\n",
    "            self.parent.add_right(self.b, self)\n",
    "            self.parent.delete(self)\n",
    "            return True\n",
    "        if type(self.a) is not int:\n",
    "            if self.a.explode(nest + 1):\n",
    "                return True\n",
    "        if type(self.b) is not int:\n",
    "            if self.b.explode(nest + 1):\n",
    "                return True\n",
    "\n",
    "    def split(self):\n",
    "        if type(self.a) is int and self.a > 9:\n",
    "#             print(f'split a {self}.')\n",
    "            a = self.a // 2\n",
    "            b = self.a - a\n",
    "            self.a = Pair(a, b, self)\n",
    "            return True\n",
    "        if type(self.a) is not int:\n",
    "            if self.a.split():\n",
    "                return True\n",
    "        if type(self.b) is int and self.b > 9:\n",
    "#             print(f'split b {self}.')\n",
    "            a = self.b // 2\n",
    "            b = self.b - a\n",
    "            self.b = Pair(a, b, self)\n",
    "            return True\n",
    "        if type(self.b) is not int:\n",
    "            if self.b.split():\n",
    "                return True\n",
    "\n",
    "    def delete(self, x):\n",
    "        if x == self.a:\n",
    "            self.a = 0\n",
    "        elif x == self.b:\n",
    "            self.b = 0\n",
    "\n",
    "    @property\n",
    "    def magnitude(self):\n",
    "        if type(self.a) is int:\n",
    "            a = self.a\n",
    "        else:\n",
    "            a = self.a.magnitude\n",
    "        if type(self.b) is int:\n",
    "            b = self.b\n",
    "        else:\n",
    "            b = self.b.magnitude\n",
    "        return 3 * a + 2 * b\n",
    "\n",
    "def parse(s):\n",
    "    def _parse(x):\n",
    "        if type(x) is int:\n",
    "            return x\n",
    "        else:\n",
    "            a, b = x\n",
    "            return Pair(_parse(a), _parse(b))  \n",
    "    x = json.loads(s)\n",
    "    x = _parse(x)\n",
    "    return x\n",
    "\n",
    "def sum(a, b):\n",
    "    return Pair(a, b)\n",
    "\n",
    "def solve(data):\n",
    "    x = None\n",
    "    for s in data:\n",
    "        x_new = parse(s)\n",
    "        if x:\n",
    "            x = sum(x, x_new)\n",
    "        else:\n",
    "            x = x_new\n",
    "\n",
    "        while True:\n",
    "            x_old = str(x)\n",
    "            x.reduce()\n",
    "            if str(x) == x_old:\n",
    "                break\n",
    "    return x"
   ]
  },
  {
   "cell_type": "code",
   "execution_count": 107,
   "id": "e105aade",
   "metadata": {},
   "outputs": [
    {
     "name": "stdout",
     "output_type": "stream",
     "text": [
      "Magnitude: 4235\n"
     ]
    }
   ],
   "source": [
    "x = solve(data)\n",
    "\n",
    "print(f'Magnitude: {x.magnitude}')"
   ]
  },
  {
   "cell_type": "code",
   "execution_count": 108,
   "id": "6e6ef4f7",
   "metadata": {},
   "outputs": [
    {
     "name": "stdout",
     "output_type": "stream",
     "text": [
      "\u001b[32mThat's the right answer!  You are one gold star closer to finding the sleigh keys. [Continue to Part Two]\u001b[0m\n",
      "Opening in existing browser session.\n"
     ]
    },
    {
     "name": "stderr",
     "output_type": "stream",
     "text": [
      "[10336:10336:0100/000000.369081:ERROR:sandbox_linux.cc(376)] InitializeSandbox() called with multiple threads in process gpu-process.\n"
     ]
    }
   ],
   "source": [
    "puzzle.answer_a = 4235"
   ]
  },
  {
   "cell_type": "code",
   "execution_count": 114,
   "id": "812fff62",
   "metadata": {},
   "outputs": [
    {
     "name": "stdout",
     "output_type": "stream",
     "text": [
      "Maximum magnitude: 4659\n"
     ]
    }
   ],
   "source": [
    "from itertools import permutations\n",
    "\n",
    "max_magnitude = 0\n",
    "for i, j in permutations(range(len(data)), 2):\n",
    "    x = solve([data[i], data[j]])\n",
    "    max_magnitude = max(max_magnitude, x.magnitude)\n",
    "\n",
    "print(f'Maximum magnitude: {max_magnitude}')"
   ]
  },
  {
   "cell_type": "code",
   "execution_count": 115,
   "id": "e1c1873f",
   "metadata": {},
   "outputs": [
    {
     "name": "stdout",
     "output_type": "stream",
     "text": [
      "\u001b[32mThat's the right answer!  You are one gold star closer to finding the sleigh keys.You have completed Day 18! You can [Shareon\n",
      "  Twitter\n",
      "Mastodon] this victory or [Return to Your Advent Calendar].\u001b[0m\n",
      "Opening in existing browser session.\n"
     ]
    },
    {
     "name": "stderr",
     "output_type": "stream",
     "text": [
      "[10453:10453:0100/000000.579006:ERROR:sandbox_linux.cc(376)] InitializeSandbox() called with multiple threads in process gpu-process.\n"
     ]
    }
   ],
   "source": [
    "puzzle.answer_b = 4659"
   ]
  }
 ],
 "metadata": {
  "kernelspec": {
   "display_name": "Python 3",
   "language": "python",
   "name": "python3"
  },
  "language_info": {
   "codemirror_mode": {
    "name": "ipython",
    "version": 3
   },
   "file_extension": ".py",
   "mimetype": "text/x-python",
   "name": "python",
   "nbconvert_exporter": "python",
   "pygments_lexer": "ipython3",
   "version": "3.8.10"
  }
 },
 "nbformat": 4,
 "nbformat_minor": 5
}
