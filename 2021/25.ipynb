{
 "cells": [
  {
   "cell_type": "code",
   "execution_count": 50,
   "id": "05a5bd73",
   "metadata": {},
   "outputs": [],
   "source": [
    "from copy import deepcopy\n",
    "from functools import lru_cache\n",
    "from itertools import product\n",
    "from aocd.models import Puzzle\n",
    "puzzle = Puzzle(year=2021, day=25)\n",
    "data = puzzle.input_data.split('\\n')"
   ]
  },
  {
   "cell_type": "code",
   "execution_count": 46,
   "id": "30ebf881",
   "metadata": {},
   "outputs": [],
   "source": [
    "data = '''\n",
    "v...>>.vv>\n",
    ".vv>>.vv..\n",
    ">>.>v>...v\n",
    ">>v>>.>.v.\n",
    "v>v.vv.v..\n",
    ">.>>..v...\n",
    ".vv..>.>v.\n",
    "v.v..>>v.v\n",
    "....v..v.>\n",
    "'''\n",
    "data = data.split('\\n')[1:-1]"
   ]
  },
  {
   "cell_type": "code",
   "execution_count": 53,
   "id": "ffaf3597",
   "metadata": {},
   "outputs": [
    {
     "name": "stdout",
     "output_type": "stream",
     "text": [
      "No movement from step 424.\n"
     ]
    }
   ],
   "source": [
    "x = {}\n",
    "h, w = len(data), len(data[0])\n",
    "\n",
    "for i in range(h):\n",
    "    for j in range(w):\n",
    "        if data[i][j] in ['>', 'v']:\n",
    "            x[(i, j)] = data[i][j]\n",
    "\n",
    "def step_east(x):\n",
    "    new_x = {}\n",
    "    for (i, j), e in x.items():\n",
    "        if e == '>':\n",
    "            move = (i, (j + 1) % w)\n",
    "            if move in x:\n",
    "                new_x[(i, j)] = e\n",
    "            else:\n",
    "                new_x[move] = e\n",
    "        else:\n",
    "            new_x[(i, j)] = e\n",
    "    return new_x\n",
    "\n",
    "def step_south(x):\n",
    "    new_x = {}\n",
    "    for (i, j), e in x.items():\n",
    "        if e == 'v':\n",
    "            move = ((i + 1) % h, j)\n",
    "            if move in x:\n",
    "                new_x[(i, j)] = e\n",
    "            else:\n",
    "                new_x[move] = e\n",
    "        else:\n",
    "            new_x[(i, j)] = e\n",
    "    return new_x\n",
    "\n",
    "def step(x):\n",
    "    x = step_east(x)\n",
    "    x = step_south(x)\n",
    "    return x\n",
    "\n",
    "def visualize(x):\n",
    "    lines = []\n",
    "    for i in range(h):\n",
    "        line = ''\n",
    "        for j in range(w):\n",
    "            if (i, j) in x:\n",
    "                e = x[(i, j)]\n",
    "            else:\n",
    "                e = '.'\n",
    "            line += e\n",
    "        lines.append(line)\n",
    "    print('\\n'.join(lines))\n",
    "\n",
    "i = 0\n",
    "while True:\n",
    "    i += 1\n",
    "    x_new = step(x)\n",
    "    if x_new == x:\n",
    "        break\n",
    "    x = x_new\n",
    "\n",
    "print(f'No movement from step {i}.')"
   ]
  },
  {
   "cell_type": "code",
   "execution_count": 54,
   "id": "07a83020",
   "metadata": {},
   "outputs": [
    {
     "name": "stdout",
     "output_type": "stream",
     "text": [
      "Opening in existing browser session.\n"
     ]
    },
    {
     "name": "stderr",
     "output_type": "stream",
     "text": [
      "[6676:6676:0100/000000.997469:ERROR:sandbox_linux.cc(376)] InitializeSandbox() called with multiple threads in process gpu-process.\n"
     ]
    },
    {
     "name": "stdout",
     "output_type": "stream",
     "text": [
      "\n",
      "You use all fifty stars to boost the signal and remotely start the sleigh! Now, you just have to find your way back to the surface......did you know crab submarines come with colored lights?\n",
      "Congratulations!  You've finished every puzzle in Advent of Code 2021!  I hope you had as much fun solving them as I had making them for you.  I'd love to hear about your adventure; you can get in touch with me via contact info on my website or through Twitter.\n",
      "If you'd like to see more things like this in the future, please consider supporting Advent of Code and sharing it with others.\n",
      "To hear about future projects, you can follow me on Twitter.\n",
      "I've highlighted the easter eggs in each puzzle, just in case you missed any.  Hover your mouse over them, and the easter egg will appear.\n",
      "You can [Shareon\n",
      "  Twitter\n",
      "Mastodon] this moment with your friends, or [Go Check on Your Calendar].\n",
      "\u001b[0m\n",
      "\u001b[32mThat's the right answer!  You are one gold star closer to finding the sleigh keys. [Continue to Part Two]\u001b[0m\n"
     ]
    }
   ],
   "source": [
    "puzzle.answer_a = 424"
   ]
  },
  {
   "cell_type": "code",
   "execution_count": 10,
   "id": "e1c1873f",
   "metadata": {},
   "outputs": [
    {
     "name": "stdout",
     "output_type": "stream",
     "text": [
      "\u001b[32mThat's the right answer!  You are one gold star closer to finding the sleigh keys.You have completed Day 24! You can [Shareon\n",
      "  Twitter\n",
      "Mastodon] this victory or [Return to Your Advent Calendar].\u001b[0m\n",
      "Opening in existing browser session.\n"
     ]
    },
    {
     "name": "stderr",
     "output_type": "stream",
     "text": [
      "[5119:5119:0100/000000.345868:ERROR:sandbox_linux.cc(376)] InitializeSandbox() called with multiple threads in process gpu-process.\n"
     ]
    }
   ],
   "source": [
    "puzzle.answer_b = 21611513911181"
   ]
  }
 ],
 "metadata": {
  "kernelspec": {
   "display_name": "Python 3",
   "language": "python",
   "name": "python3"
  },
  "language_info": {
   "codemirror_mode": {
    "name": "ipython",
    "version": 3
   },
   "file_extension": ".py",
   "mimetype": "text/x-python",
   "name": "python",
   "nbconvert_exporter": "python",
   "pygments_lexer": "ipython3",
   "version": "3.8.10"
  }
 },
 "nbformat": 4,
 "nbformat_minor": 5
}
