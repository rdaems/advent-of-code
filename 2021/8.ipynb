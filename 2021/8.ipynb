{
 "cells": [
  {
   "cell_type": "code",
   "execution_count": 11,
   "id": "05a5bd73",
   "metadata": {},
   "outputs": [],
   "source": [
    "from copy import copy\n",
    "from aocd.models import Puzzle\n",
    "puzzle = Puzzle(year=2021, day=8)\n",
    "data = puzzle.input_data.split('\\n')"
   ]
  },
  {
   "cell_type": "code",
   "execution_count": 2,
   "id": "e105aade",
   "metadata": {},
   "outputs": [],
   "source": [
    "data = '''\n",
    "be cfbegad cbdgef fgaecd cgeb fdcge agebfd fecdb fabcd edb | fdgacbe cefdb cefbgd gcbe\n",
    "edbfga begcd cbg gc gcadebf fbgde acbgfd abcde gfcbed gfec | fcgedb cgb dgebacf gc\n",
    "fgaebd cg bdaec gdafb agbcfd gdcbef bgcad gfac gcb cdgabef | cg cg fdcagb cbg\n",
    "fbegcd cbd adcefb dageb afcb bc aefdc ecdab fgdeca fcdbega | efabcd cedba gadfec cb\n",
    "aecbfdg fbg gf bafeg dbefa fcge gcbea fcaegb dgceab fcbdga | gecf egdcabf bgf bfgea\n",
    "fgeab ca afcebg bdacfeg cfaedg gcfdb baec bfadeg bafgc acf | gebdcfa ecba ca fadegcb\n",
    "dbcfg fgd bdegcaf fgec aegbdf ecdfab fbedc dacgb gdcebf gf | cefg dcbef fcge gbcadfe\n",
    "bdfegc cbegaf gecbf dfcage bdacg ed bedf ced adcbefg gebcd | ed bcgafe cdgba cbgef\n",
    "egadfb cdbfeg cegd fecab cgb gbdefca cg fgcdab egfdb bfceg | gbdfcae bgc cg cgb\n",
    "gcafb gcf dcaebfg ecagb gf abcdeg gaef cafbge fdbac fegbdc | fgae cfgab fg bagce\n",
    "'''\n",
    "data = data.split('\\n')[1:-1]"
   ]
  },
  {
   "cell_type": "code",
   "execution_count": 14,
   "id": "5854939d",
   "metadata": {},
   "outputs": [
    {
     "name": "stdout",
     "output_type": "stream",
     "text": [
      "525\n"
     ]
    }
   ],
   "source": [
    "counter = 0\n",
    "for line in data:\n",
    "    signals, outputs = line.split(' | ')\n",
    "    signals = signals.split(' ')\n",
    "    outputs = outputs.split(' ')\n",
    "\n",
    "    for output in outputs:\n",
    "        if len(output) in [2, 3, 4, 7]:\n",
    "            counter += 1\n",
    "print(counter)"
   ]
  },
  {
   "cell_type": "code",
   "execution_count": 15,
   "id": "6e6ef4f7",
   "metadata": {},
   "outputs": [
    {
     "name": "stdout",
     "output_type": "stream",
     "text": [
      "\u001b[32mThat's the right answer!  You are one gold star closer to finding the sleigh keys. [Continue to Part Two]\u001b[0m\n",
      "Opening in existing browser session.\n"
     ]
    },
    {
     "name": "stderr",
     "output_type": "stream",
     "text": [
      "[6384:6384:0100/000000.577363:ERROR:sandbox_linux.cc(376)] InitializeSandbox() called with multiple threads in process gpu-process.\n"
     ]
    }
   ],
   "source": [
    "puzzle.answer_a = 525"
   ]
  },
  {
   "cell_type": "code",
   "execution_count": 12,
   "id": "1738eb86",
   "metadata": {},
   "outputs": [],
   "source": [
    "digit_mapping = [\n",
    "    'abcefg',\n",
    "    'cf',\n",
    "    'acdeg',\n",
    "    'acdfg',\n",
    "    'bcdf',\n",
    "    'abdfg',\n",
    "    'abdefg',\n",
    "    'acf',\n",
    "    'abcdefg',\n",
    "    'abcdfe'\n",
    "]\n",
    "# digit_mapping = [set(d) for d in digit_mapping]"
   ]
  },
  {
   "cell_type": "code",
   "execution_count": 13,
   "id": "02033bde",
   "metadata": {},
   "outputs": [],
   "source": [
    "def decode(signals):\n",
    "    lengths = [len(s) for s in signals]    \n",
    "    per_length = {l: [s for s in signals if len(s) == l] for l in set(lengths)}\n",
    "    m = [None, per_length[2][0], None, None, per_length[4][0], None, None, per_length[3][0], per_length[7][0], None]\n",
    "    l5 = set(per_length[5])\n",
    "    l6 = set(per_length[6])\n",
    "    for s in l5:\n",
    "        if set(m[1]).issubset(set(s)):\n",
    "            m[3] = s\n",
    "            l5.remove(s)\n",
    "            break\n",
    "    for s in l5:\n",
    "        intersection = set(m[4]).intersection(s)\n",
    "        if len(intersection) == 3:\n",
    "            m[5] = s\n",
    "        else:\n",
    "            m[2] = s\n",
    "    for s in l6:\n",
    "        intersection = set(m[1]).intersection(s)\n",
    "        if len(intersection) == 1:\n",
    "            m[6] = s\n",
    "        else:\n",
    "            intersection = set(m[4]).intersection(s)\n",
    "            if len(intersection) == 3:\n",
    "                m[0] = s\n",
    "            else:\n",
    "                m[9] = s\n",
    "    return [set(m_) for m_ in m]"
   ]
  },
  {
   "cell_type": "code",
   "execution_count": 15,
   "id": "193c2c0a",
   "metadata": {
    "scrolled": false
   },
   "outputs": [
    {
     "name": "stdout",
     "output_type": "stream",
     "text": [
      "1083859\n"
     ]
    }
   ],
   "source": [
    "counter = 0\n",
    "for line in data:\n",
    "    signals, outputs = line.split(' | ')\n",
    "    signals = signals.split(' ')\n",
    "    outputs = outputs.split(' ')\n",
    "    mapping = decode(signals)\n",
    "\n",
    "    output_ints = [mapping.index(set(output)) for output in outputs]\n",
    "    number = int(''.join([str(i) for i in output_ints]))\n",
    "    counter += number\n",
    "print(counter)"
   ]
  },
  {
   "cell_type": "code",
   "execution_count": 16,
   "id": "e1c1873f",
   "metadata": {},
   "outputs": [
    {
     "name": "stdout",
     "output_type": "stream",
     "text": [
      "\u001b[32mThat's the right answer!  You are one gold star closer to finding the sleigh keys.You have completed Day 8! You can [Shareon\n",
      "  Twitter\n",
      "Mastodon] this victory or [Return to Your Advent Calendar].\u001b[0m\n",
      "Opening in existing browser session.\n"
     ]
    },
    {
     "name": "stderr",
     "output_type": "stream",
     "text": [
      "[9010:9010:0100/000000.248873:ERROR:sandbox_linux.cc(376)] InitializeSandbox() called with multiple threads in process gpu-process.\n"
     ]
    }
   ],
   "source": [
    "puzzle.answer_b = 1083859"
   ]
  }
 ],
 "metadata": {
  "kernelspec": {
   "display_name": "Python 3",
   "language": "python",
   "name": "python3"
  },
  "language_info": {
   "codemirror_mode": {
    "name": "ipython",
    "version": 3
   },
   "file_extension": ".py",
   "mimetype": "text/x-python",
   "name": "python",
   "nbconvert_exporter": "python",
   "pygments_lexer": "ipython3",
   "version": "3.8.10"
  }
 },
 "nbformat": 4,
 "nbformat_minor": 5
}
