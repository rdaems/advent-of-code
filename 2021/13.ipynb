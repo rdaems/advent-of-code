{
 "cells": [
  {
   "cell_type": "code",
   "execution_count": 42,
   "id": "05a5bd73",
   "metadata": {},
   "outputs": [],
   "source": [
    "from copy import copy\n",
    "from aocd.models import Puzzle\n",
    "puzzle = Puzzle(year=2021, day=13)\n",
    "data = puzzle.input_data.split('\\n')"
   ]
  },
  {
   "cell_type": "code",
   "execution_count": 2,
   "id": "e105aade",
   "metadata": {},
   "outputs": [],
   "source": [
    "data = '''\n",
    "6,10\n",
    "0,14\n",
    "9,10\n",
    "0,3\n",
    "10,4\n",
    "4,11\n",
    "6,0\n",
    "6,12\n",
    "4,1\n",
    "0,13\n",
    "10,12\n",
    "3,4\n",
    "3,0\n",
    "8,4\n",
    "1,10\n",
    "2,14\n",
    "8,10\n",
    "9,0\n",
    "\n",
    "fold along y=7\n",
    "fold along x=5\n",
    "'''\n",
    "data = data.split('\\n')[1:-1]"
   ]
  },
  {
   "cell_type": "code",
   "execution_count": 60,
   "id": "5288f305",
   "metadata": {},
   "outputs": [
    {
     "name": "stdout",
     "output_type": "stream",
     "text": [
      "####.#..#...##.#..#..##..####.#..#.###.\n",
      "...#.#..#....#.#..#.#..#.#....#..#.#..#\n",
      "..#..#..#....#.#..#.#..#.###..####.#..#\n",
      ".#...#..#....#.#..#.####.#....#..#.###.\n",
      "#....#..#.#..#.#..#.#..#.#....#..#.#...\n",
      "####..##...##...##..#..#.#....#..#.#...\n",
      "\n",
      "There are 96 dots left after folding.\n"
     ]
    }
   ],
   "source": [
    "def visualize(dots):\n",
    "    w = max([dot[0] for dot in dots]) + 1\n",
    "    h = max([dot[1] for dot in dots]) + 1\n",
    "    output = ''\n",
    "    for i in range(h):\n",
    "        for j in range(w):\n",
    "            if [j, i] in dots:\n",
    "                output += '#'\n",
    "            else:\n",
    "                output += '.'\n",
    "        output += '\\n'\n",
    "    print(output)\n",
    "\n",
    "dots, folds = [], []\n",
    "i = data.index('')\n",
    "dots = [[int(x) for x in line.split(',')] for line in data[:i]]\n",
    "folds = [line.split(' ')[-1].split('=') for line in data[i+1:]]\n",
    "folds = [(axis, int(coordinate)) for axis, coordinate in folds]\n",
    "\n",
    "# visualize(dots)\n",
    "\n",
    "for axis, coordinate in folds:\n",
    "    if axis == 'x':\n",
    "        dots = [[coordinate - abs(coordinate - dot[0]), dot[1]] for dot in dots if dot[0] != coordinate]\n",
    "    elif axis == 'y':\n",
    "        dots = [[dot[0], coordinate - abs(coordinate - dot[1])] for dot in dots if dot[1] != coordinate]\n",
    "\n",
    "visualize(dots)\n",
    "\n",
    "num_dots = len(set([tuple(dot) for dot in dots]))\n",
    "print(f'There are {num_dots} dots left after folding.')"
   ]
  },
  {
   "cell_type": "code",
   "execution_count": 58,
   "id": "6e6ef4f7",
   "metadata": {},
   "outputs": [
    {
     "name": "stdout",
     "output_type": "stream",
     "text": [
      "\u001b[32mThat's the right answer!  You are one gold star closer to finding the sleigh keys. [Continue to Part Two]\u001b[0m\n",
      "Opening in existing browser session.\n"
     ]
    },
    {
     "name": "stderr",
     "output_type": "stream",
     "text": [
      "[4651:4651:0100/000000.145387:ERROR:sandbox_linux.cc(376)] InitializeSandbox() called with multiple threads in process gpu-process.\n"
     ]
    }
   ],
   "source": [
    "puzzle.answer_a = 737"
   ]
  },
  {
   "cell_type": "code",
   "execution_count": 61,
   "id": "e1c1873f",
   "metadata": {},
   "outputs": [
    {
     "name": "stdout",
     "output_type": "stream",
     "text": [
      "\u001b[32mThat's the right answer!  You are one gold star closer to finding the sleigh keys.You have completed Day 13! You can [Shareon\n",
      "  Twitter\n",
      "Mastodon] this victory or [Return to Your Advent Calendar].\u001b[0m\n",
      "Opening in existing browser session.\n"
     ]
    },
    {
     "name": "stderr",
     "output_type": "stream",
     "text": [
      "[4891:4891:0100/000000.200100:ERROR:sandbox_linux.cc(376)] InitializeSandbox() called with multiple threads in process gpu-process.\n"
     ]
    }
   ],
   "source": [
    "puzzle.answer_b = 'ZUJUAFHP'"
   ]
  }
 ],
 "metadata": {
  "kernelspec": {
   "display_name": "Python 3",
   "language": "python",
   "name": "python3"
  },
  "language_info": {
   "codemirror_mode": {
    "name": "ipython",
    "version": 3
   },
   "file_extension": ".py",
   "mimetype": "text/x-python",
   "name": "python",
   "nbconvert_exporter": "python",
   "pygments_lexer": "ipython3",
   "version": "3.8.10"
  }
 },
 "nbformat": 4,
 "nbformat_minor": 5
}
