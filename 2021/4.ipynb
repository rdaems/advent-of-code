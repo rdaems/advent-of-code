{
 "cells": [
  {
   "cell_type": "code",
   "execution_count": 78,
   "id": "d400b90b",
   "metadata": {},
   "outputs": [],
   "source": [
    "from copy import copy\n",
    "from aocd.models import Puzzle\n",
    "puzzle = Puzzle(year=2021, day=4)\n",
    "data = puzzle.input_data.split('\\n')"
   ]
  },
  {
   "cell_type": "code",
   "execution_count": 74,
   "id": "540053fa",
   "metadata": {},
   "outputs": [],
   "source": [
    "data = '''\n",
    "7,4,9,5,11,17,23,2,0,14,21,24,10,16,13,6,15,25,12,22,18,20,8,19,3,26,1\n",
    "\n",
    "22 13 17 11  0\n",
    " 8  2 23  4 24\n",
    "21  9 14 16  7\n",
    " 6 10  3 18  5\n",
    " 1 12 20 15 19\n",
    "\n",
    " 3 15  0  2 22\n",
    " 9 18 13 17  5\n",
    "19  8  7 25 23\n",
    "20 11 10 24  4\n",
    "14 21 16 12  6\n",
    "\n",
    "14 21 17 24  4\n",
    "10 16 15  9 19\n",
    "18  8 23 26 20\n",
    "22 11 13  6  5\n",
    " 2  0 12  3  7\n",
    "'''\n",
    "data = data.split('\\n')[1:-1]"
   ]
  },
  {
   "cell_type": "code",
   "execution_count": 79,
   "id": "004e4221",
   "metadata": {},
   "outputs": [],
   "source": [
    "class Board:\n",
    "    def __init__(self, board):\n",
    "        self.board = board\n",
    "        self.state = [[False for _ in range(self.n)] for _ in range(self.n)]\n",
    "        self.finished = False\n",
    "\n",
    "    @property\n",
    "    def n(self):\n",
    "        return len(self.board[0])\n",
    "\n",
    "    def complete(self):\n",
    "        for i in range(self.n):\n",
    "            if all(self.state[i]):\n",
    "                return True\n",
    "            if all([self.state[j][i] for j in range(self.n)]):\n",
    "                return True\n",
    "        return False\n",
    "\n",
    "    def score(self, number):\n",
    "        score = 0\n",
    "        if self.complete():\n",
    "            self.finished = True\n",
    "            for i in range(self.n):\n",
    "                for j in range(self.n):\n",
    "                    if not self.state[i][j]:\n",
    "                        score += self.board[i][j]\n",
    "            return number * score\n",
    "        else:\n",
    "            return 0\n",
    "\n",
    "    def draw(self, number):\n",
    "        if self.finished:\n",
    "            return 0\n",
    "        for i in range(self.n):\n",
    "            for j in range(self.n):\n",
    "                if self.board[i][j] == number:\n",
    "                    self.state[i][j] = True\n",
    "                    return self.score(number)\n",
    "        return 0"
   ]
  },
  {
   "cell_type": "code",
   "execution_count": 80,
   "id": "eed00d67",
   "metadata": {},
   "outputs": [
    {
     "name": "stdout",
     "output_type": "stream",
     "text": [
      "Board 37 won with score 54275.\n",
      "Board 46 won with score 49126.\n",
      "Board 1 won with score 10052.\n",
      "Board 25 won with score 57570.\n",
      "Board 79 won with score 59565.\n",
      "Board 11 won with score 40854.\n",
      "Board 26 won with score 38280.\n",
      "Board 64 won with score 46909.\n",
      "Board 77 won with score 41053.\n",
      "Board 4 won with score 44745.\n",
      "Board 12 won with score 25536.\n",
      "Board 89 won with score 45999.\n",
      "Board 24 won with score 37290.\n",
      "Board 50 won with score 28545.\n",
      "Board 20 won with score 14240.\n",
      "Board 34 won with score 72814.\n",
      "Board 21 won with score 647.\n",
      "Board 53 won with score 243.\n",
      "Board 65 won with score 508.\n",
      "Board 98 won with score 51888.\n",
      "Board 59 won with score 34965.\n",
      "Board 87 won with score 26838.\n",
      "Board 3 won with score 23684.\n",
      "Board 15 won with score 38874.\n",
      "Board 22 won with score 34658.\n",
      "Board 57 won with score 31992.\n",
      "Board 90 won with score 23622.\n",
      "Board 91 won with score 28086.\n",
      "Board 93 won with score 34286.\n",
      "Board 55 won with score 19902.\n",
      "Board 66 won with score 21824.\n",
      "Board 73 won with score 18879.\n",
      "Board 0 won with score 42656.\n",
      "Board 10 won with score 44204.\n",
      "Board 70 won with score 61146.\n",
      "Board 94 won with score 37152.\n",
      "Board 9 won with score 29260.\n",
      "Board 85 won with score 31416.\n",
      "Board 88 won with score 36960.\n",
      "Board 5 won with score 26605.\n",
      "Board 38 won with score 31110.\n",
      "Board 48 won with score 28730.\n",
      "Board 68 won with score 50915.\n",
      "Board 49 won with score 40629.\n",
      "Board 16 won with score 36549.\n",
      "Board 29 won with score 33573.\n",
      "Board 69 won with score 33387.\n",
      "Board 71 won with score 39804.\n",
      "Board 74 won with score 33759.\n",
      "Board 97 won with score 24366.\n",
      "Board 13 won with score 12038.\n",
      "Board 39 won with score 9308.\n",
      "Board 78 won with score 12766.\n",
      "Board 7 won with score 15600.\n",
      "Board 30 won with score 9600.\n",
      "Board 45 won with score 9080.\n",
      "Board 62 won with score 7600.\n",
      "Board 84 won with score 15360.\n",
      "Board 86 won with score 4655.\n",
      "Board 95 won with score 9196.\n",
      "Board 43 won with score 16704.\n",
      "Board 33 won with score 28576.\n",
      "Board 99 won with score 31844.\n",
      "Board 35 won with score 38106.\n",
      "Board 52 won with score 33215.\n",
      "Board 18 won with score 20531.\n",
      "Board 36 won with score 12789.\n",
      "Board 58 won with score 28126.\n",
      "Board 75 won with score 15876.\n",
      "Board 6 won with score 15334.\n",
      "Board 44 won with score 12852.\n",
      "Board 81 won with score 14314.\n",
      "Board 8 won with score 14265.\n",
      "Board 17 won with score 9000.\n",
      "Board 19 won with score 14355.\n",
      "Board 32 won with score 13995.\n",
      "Board 54 won with score 15795.\n",
      "Board 61 won with score 15660.\n",
      "Board 27 won with score 25748.\n",
      "Board 31 won with score 16892.\n",
      "Board 82 won with score 26158.\n",
      "Board 2 won with score 8404.\n",
      "Board 56 won with score 6248.\n",
      "Board 63 won with score 7304.\n",
      "Board 67 won with score 7656.\n",
      "Board 92 won with score 6160.\n",
      "Board 96 won with score 17760.\n",
      "Board 40 won with score 27846.\n",
      "Board 47 won with score 23790.\n",
      "Board 60 won with score 19647.\n",
      "Board 83 won with score 14632.\n",
      "Board 42 won with score 22386.\n",
      "Board 51 won with score 24570.\n",
      "Board 23 won with score 9728.\n",
      "Board 28 won with score 17152.\n",
      "Board 41 won with score 8064.\n",
      "Board 72 won with score 16128.\n",
      "Board 76 won with score 12480.\n",
      "Board 14 won with score 4809.\n",
      "Board 80 won with score 13158.\n"
     ]
    }
   ],
   "source": [
    "sequence = [int(number) for number in data[0].split(',')]\n",
    "boards = []\n",
    "for line in data[1:]:\n",
    "    if line == '':\n",
    "        boards.append([])\n",
    "    else:\n",
    "        boards[-1].append([int(number) for number in line.split(' ') if number != ''])\n",
    "boards = [Board(board) for board in boards]\n",
    "\n",
    "for number in sequence:\n",
    "    for b, board in enumerate(boards):\n",
    "        score = board.draw(number)\n",
    "        if score > 0:\n",
    "            print(f'Board {b} won with score {score}.')"
   ]
  },
  {
   "cell_type": "code",
   "execution_count": 54,
   "id": "25f3b79f",
   "metadata": {},
   "outputs": [
    {
     "name": "stdout",
     "output_type": "stream",
     "text": [
      "\u001b[32mThat's the right answer!  You are one gold star closer to finding the sleigh keys. [Continue to Part Two]\u001b[0m\n",
      "Opening in existing browser session.\n"
     ]
    },
    {
     "name": "stderr",
     "output_type": "stream",
     "text": [
      "[6998:6998:0100/000000.884141:ERROR:sandbox_linux.cc(376)] InitializeSandbox() called with multiple threads in process gpu-process.\n"
     ]
    }
   ],
   "source": [
    "puzzle.answer_a = 54275"
   ]
  },
  {
   "cell_type": "code",
   "execution_count": 81,
   "id": "c1ed0c47",
   "metadata": {},
   "outputs": [
    {
     "name": "stdout",
     "output_type": "stream",
     "text": [
      "\u001b[32mThat's the right answer!  You are one gold star closer to finding the sleigh keys.You have completed Day 4! You can [Shareon\n",
      "  Twitter\n",
      "Mastodon] this victory or [Return to Your Advent Calendar].\u001b[0m\n",
      "Opening in existing browser session.\n"
     ]
    },
    {
     "name": "stderr",
     "output_type": "stream",
     "text": [
      "[7201:7201:0100/000000.605204:ERROR:sandbox_linux.cc(376)] InitializeSandbox() called with multiple threads in process gpu-process.\n"
     ]
    }
   ],
   "source": [
    "puzzle.answer_b = 13158"
   ]
  },
  {
   "cell_type": "code",
   "execution_count": null,
   "id": "7d024a6c",
   "metadata": {},
   "outputs": [],
   "source": []
  }
 ],
 "metadata": {
  "kernelspec": {
   "display_name": "Python 3",
   "language": "python",
   "name": "python3"
  },
  "language_info": {
   "codemirror_mode": {
    "name": "ipython",
    "version": 3
   },
   "file_extension": ".py",
   "mimetype": "text/x-python",
   "name": "python",
   "nbconvert_exporter": "python",
   "pygments_lexer": "ipython3",
   "version": "3.8.10"
  }
 },
 "nbformat": 4,
 "nbformat_minor": 5
}
