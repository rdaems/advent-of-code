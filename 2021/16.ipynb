{
 "cells": [
  {
   "cell_type": "code",
   "execution_count": 78,
   "id": "05a5bd73",
   "metadata": {},
   "outputs": [],
   "source": [
    "from copy import copy\n",
    "from aocd.models import Puzzle\n",
    "from itertools import chain\n",
    "from functools import lru_cache\n",
    "puzzle = Puzzle(year=2021, day=16)\n",
    "data = puzzle.input_data.split('\\n')"
   ]
  },
  {
   "cell_type": "code",
   "execution_count": 65,
   "id": "e105aade",
   "metadata": {},
   "outputs": [],
   "source": [
    "data = '''\n",
    "8A004A801A8002F478\n",
    "'''\n",
    "data = data.split('\\n')[1:-1]"
   ]
  },
  {
   "cell_type": "code",
   "execution_count": 79,
   "id": "340a74d3",
   "metadata": {},
   "outputs": [
    {
     "name": "stdout",
     "output_type": "stream",
     "text": [
      "Sum of all version numbers: 938\n"
     ]
    }
   ],
   "source": [
    "class Stream:\n",
    "    def __init__(self, data):\n",
    "        self.data = list(bin(int(data, 16))[2:])\n",
    "\n",
    "    def __len__(self):\n",
    "        return len(self.data)\n",
    "\n",
    "    def __call__(self, n=1):\n",
    "        outputs = [self.data.pop(0) for _ in range(n)]\n",
    "        return ''.join(outputs)\n",
    "stream = Stream(data[0])\n",
    "\n",
    "def parse(stream):\n",
    "    version = int(stream(3), 2)\n",
    "    type_id = int(stream(3), 2)\n",
    "    if type_id == 4:\n",
    "        value = ''\n",
    "        while True:\n",
    "            b = stream()\n",
    "            value += stream(4)\n",
    "            if b == '0':\n",
    "                break\n",
    "        value = int(value, 2)\n",
    "        return {'version': version, 'type': type_id, 'value': value}\n",
    "    else:\n",
    "        length_type = stream()\n",
    "        if length_type == '0':\n",
    "            total_length = int(stream(15), 2)\n",
    "            start_length = len(stream)\n",
    "            sub_packets = []\n",
    "            while start_length - len(stream) < total_length:\n",
    "                sub_packets.append(parse(stream))\n",
    "        elif length_type == '1':\n",
    "            num_sub_packets = int(stream(11), 2)\n",
    "            sub_packets = [parse(stream) for _ in range(num_sub_packets)]\n",
    "        return {'version': version, 'type': type_id, 'sub_packets': sub_packets}\n",
    "\n",
    "result = parse(stream)\n",
    "\n",
    "def version_sum(result):\n",
    "    v = result['version']\n",
    "    if result['type'] == 4:\n",
    "        return v\n",
    "    else:\n",
    "        return v + sum([version_sum(r) for r in result['sub_packets']])\n",
    "print(f'Sum of all version numbers: {version_sum(result)}')"
   ]
  },
  {
   "cell_type": "code",
   "execution_count": 80,
   "id": "6e6ef4f7",
   "metadata": {},
   "outputs": [
    {
     "name": "stdout",
     "output_type": "stream",
     "text": [
      "\u001b[32mThat's the right answer!  You are one gold star closer to finding the sleigh keys. [Continue to Part Two]\u001b[0m\n",
      "Opening in existing browser session.\n"
     ]
    }
   ],
   "source": [
    "puzzle.answer_a = 938"
   ]
  },
  {
   "cell_type": "code",
   "execution_count": 84,
   "id": "4cd5c26b",
   "metadata": {},
   "outputs": [
    {
     "name": "stdout",
     "output_type": "stream",
     "text": [
      "Evaluation: 1495959086337\n"
     ]
    }
   ],
   "source": [
    "def prod(l):\n",
    "    product = 1\n",
    "    for x in l:\n",
    "        product *= x\n",
    "    return product\n",
    "\n",
    "def calculate(result):\n",
    "    if result['type'] == 0:\n",
    "        return sum([calculate(r) for r in result['sub_packets']])\n",
    "    elif result['type'] == 1:\n",
    "        return prod([calculate(r) for r in result['sub_packets']])\n",
    "    elif result['type'] == 2:\n",
    "        return min([calculate(r) for r in result['sub_packets']])\n",
    "    elif result['type'] == 3:\n",
    "        return max([calculate(r) for r in result['sub_packets']])\n",
    "    elif result['type'] == 4:\n",
    "        return result['value']\n",
    "    elif result['type'] == 5:\n",
    "        return calculate(result['sub_packets'][0]) > calculate(result['sub_packets'][1])\n",
    "    elif result['type'] == 6:\n",
    "        return calculate(result['sub_packets'][0]) < calculate(result['sub_packets'][1])\n",
    "    elif result['type'] == 7:\n",
    "        return calculate(result['sub_packets'][0]) == calculate(result['sub_packets'][1])\n",
    "print(f'Evaluation: {calculate(result)}')"
   ]
  },
  {
   "cell_type": "code",
   "execution_count": 83,
   "id": "e1c1873f",
   "metadata": {},
   "outputs": [
    {
     "name": "stdout",
     "output_type": "stream",
     "text": [
      "\u001b[32mThat's the right answer!  You are one gold star closer to finding the sleigh keys.You have completed Day 16! You can [Shareon\n",
      "  Twitter\n",
      "Mastodon] this victory or [Return to Your Advent Calendar].\u001b[0m\n",
      "Opening in existing browser session.\n"
     ]
    }
   ],
   "source": [
    "puzzle.answer_b = 1495959086337"
   ]
  }
 ],
 "metadata": {
  "kernelspec": {
   "display_name": "Python 3 (ipykernel)",
   "language": "python",
   "name": "python3"
  },
  "language_info": {
   "codemirror_mode": {
    "name": "ipython",
    "version": 3
   },
   "file_extension": ".py",
   "mimetype": "text/x-python",
   "name": "python",
   "nbconvert_exporter": "python",
   "pygments_lexer": "ipython3",
   "version": "3.8.10"
  }
 },
 "nbformat": 4,
 "nbformat_minor": 5
}
