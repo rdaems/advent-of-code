{
 "cells": [
  {
   "cell_type": "code",
   "execution_count": 84,
   "id": "05a5bd73",
   "metadata": {},
   "outputs": [],
   "source": [
    "from copy import copy\n",
    "from aocd.models import Puzzle\n",
    "from itertools import chain\n",
    "from functools import lru_cache\n",
    "puzzle = Puzzle(year=2021, day=15)\n",
    "data = puzzle.input_data.split('\\n')"
   ]
  },
  {
   "cell_type": "code",
   "execution_count": 70,
   "id": "e105aade",
   "metadata": {},
   "outputs": [],
   "source": [
    "data = '''\n",
    "1163751742\n",
    "1381373672\n",
    "2136511328\n",
    "3694931569\n",
    "7463417111\n",
    "1319128137\n",
    "1359912421\n",
    "3125421639\n",
    "1293138521\n",
    "2311944581\n",
    "'''\n",
    "data = data.split('\\n')[1:-1]"
   ]
  },
  {
   "cell_type": "code",
   "execution_count": 66,
   "id": "53b6a452",
   "metadata": {},
   "outputs": [
    {
     "name": "stdout",
     "output_type": "stream",
     "text": [
      "Risk of optimal path: 811.\n"
     ]
    }
   ],
   "source": [
    "risk = [[int(c) for c in line] for line in data]\n",
    "s = len(risk)\n",
    "cost = [[None for _ in range(s)] for _ in range(s)]\n",
    "\n",
    "def neighbours(i, j):\n",
    "    a = [[i + 1, j], [i, j + 1], [i - 1, j], [i, j - 1]]\n",
    "    a = [x for x in a if x[0] >= 0 and x[1] >= 0 and x[0] < s and x[1] < s]\n",
    "    return a\n",
    "\n",
    "cost[0][0] = 0\n",
    "changed = True\n",
    "while changed:\n",
    "    changed = False\n",
    "    for i in range(s):\n",
    "        for j in range(s):\n",
    "            if not cost[i][j] is None:\n",
    "                for k, l in neighbours(i, j):\n",
    "                    if cost[k][l] is None or cost[i][j] + risk[k][l] < cost[k][l]:\n",
    "                        cost[k][l] = cost[i][j] + risk[k][l]\n",
    "                        changed = True\n",
    "\n",
    "print(f'Risk of optimal path: {cost[-1][-1]}.')"
   ]
  },
  {
   "cell_type": "code",
   "execution_count": 65,
   "id": "6e6ef4f7",
   "metadata": {},
   "outputs": [
    {
     "name": "stdout",
     "output_type": "stream",
     "text": [
      "\u001b[32mThat's the right answer!  You are one gold star closer to finding the sleigh keys. [Continue to Part Two]\u001b[0m\n",
      "Opening in existing browser session.\n"
     ]
    }
   ],
   "source": [
    "puzzle.answer_a = 811"
   ]
  },
  {
   "cell_type": "code",
   "execution_count": 88,
   "id": "4cd5c26b",
   "metadata": {},
   "outputs": [
    {
     "name": "stdout",
     "output_type": "stream",
     "text": [
      "Risk of optimal path: 3012.\n"
     ]
    }
   ],
   "source": [
    "risk = [[int(c) for c in line] for line in data]\n",
    "s = len(risk)\n",
    "wrap = lambda x: (x - 1) % 9 + 1\n",
    "risk = [[wrap(risk[i % s][j % s] + i // s + j // s) for j in range(5 * s)] for i in range(5 * s)]\n",
    "s = len(risk)\n",
    "cost = [[None for _ in range(s)] for _ in range(s)]\n",
    "\n",
    "def neighbours(i, j):\n",
    "    a = [[i + 1, j], [i, j + 1], [i - 1, j], [i, j - 1]]\n",
    "    a = [x for x in a if x[0] >= 0 and x[1] >= 0 and x[0] < s and x[1] < s]\n",
    "    return a\n",
    "\n",
    "cost[0][0] = 0\n",
    "changed = True\n",
    "while changed:\n",
    "    changed = False\n",
    "    for i in range(s):\n",
    "        for j in range(s):\n",
    "            if not cost[i][j] is None:\n",
    "                for k, l in neighbours(i, j):\n",
    "                    if cost[k][l] is None or cost[i][j] + risk[k][l] < cost[k][l]:\n",
    "                        cost[k][l] = cost[i][j] + risk[k][l]\n",
    "                        changed = True\n",
    "\n",
    "print(f'Risk of optimal path: {cost[-1][-1]}.')"
   ]
  },
  {
   "cell_type": "code",
   "execution_count": 87,
   "id": "e1c1873f",
   "metadata": {},
   "outputs": [
    {
     "name": "stdout",
     "output_type": "stream",
     "text": [
      "\u001b[32mThat's the right answer!  You are one gold star closer to finding the sleigh keys.You have completed Day 15! You can [Shareon\n",
      "  Twitter\n",
      "Mastodon] this victory or [Return to Your Advent Calendar].\u001b[0m\n",
      "Opening in existing browser session.\n"
     ]
    }
   ],
   "source": [
    "puzzle.answer_b = 3012"
   ]
  }
 ],
 "metadata": {
  "kernelspec": {
   "display_name": "Python 3 (ipykernel)",
   "language": "python",
   "name": "python3"
  },
  "language_info": {
   "codemirror_mode": {
    "name": "ipython",
    "version": 3
   },
   "file_extension": ".py",
   "mimetype": "text/x-python",
   "name": "python",
   "nbconvert_exporter": "python",
   "pygments_lexer": "ipython3",
   "version": "3.8.10"
  }
 },
 "nbformat": 4,
 "nbformat_minor": 5
}
