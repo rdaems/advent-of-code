{
 "cells": [
  {
   "cell_type": "code",
   "execution_count": 2,
   "id": "a553fc55-82e1-466b-8ce6-11c7c04704c2",
   "metadata": {},
   "outputs": [],
   "source": [
    "from aocd.models import Puzzle\n",
    "\n",
    "puzzle = Puzzle(year=2023, day=4)\n",
    "data = puzzle.input_data.split('\\n')"
   ]
  },
  {
   "cell_type": "code",
   "execution_count": 22,
   "id": "5336c7eb-f7bc-47b3-9cb4-a64a56250115",
   "metadata": {},
   "outputs": [
    {
     "name": "stdout",
     "output_type": "stream",
     "text": [
      "\u001b[32mThat's the right answer!  You are one gold star closer to restoring snow operations. [Continue to Part Two]\u001b[0m\n",
      "Opening in existing browser session.\n"
     ]
    }
   ],
   "source": [
    "answer = 0\n",
    "\n",
    "for x in data:\n",
    "    a = [int(x[10+i*3:12+i*3]) for i in range(10)]\n",
    "    b = [int(x[42+i*3:44+i*3]) for i in range(25)]\n",
    "    n = sum([c in a for c in b])\n",
    "    answer += 2 ** (n - 1) if n > 0 else 0\n",
    "\n",
    "puzzle.answer_a = answer"
   ]
  },
  {
   "cell_type": "code",
   "execution_count": 36,
   "id": "093078ef-abef-46f6-ac2a-8d07cb24f7f1",
   "metadata": {},
   "outputs": [
    {
     "name": "stdout",
     "output_type": "stream",
     "text": [
      "\u001b[32mThat's the right answer!  You are one gold star closer to restoring snow operations.You have completed Day 4! You can [Shareon\n",
      "  Twitter\n",
      "Mastodon] this victory or [Return to Your Advent Calendar].\u001b[0m\n",
      "Opening in existing browser session.\n"
     ]
    }
   ],
   "source": [
    "wins = []\n",
    "\n",
    "for x in data:\n",
    "    a = [int(x[10+i*3:12+i*3]) for i in range(10)]\n",
    "    b = [int(x[42+i*3:44+i*3]) for i in range(25)]\n",
    "    n = sum([c in a for c in b])\n",
    "    wins.append(n)\n",
    "\n",
    "num_cards = [1 for _ in range(len(wins))]\n",
    "i = 0\n",
    "while i < len(wins):\n",
    "    n = wins[i]\n",
    "    for j in range(i + 1, i + 1 + n):\n",
    "        if j >= len(wins):\n",
    "            continue\n",
    "        num_cards[j] += num_cards[i]\n",
    "    i += 1\n",
    "puzzle.answer_b = sum(num_cards)"
   ]
  }
 ],
 "metadata": {
  "kernelspec": {
   "display_name": "Python 3 (ipykernel)",
   "language": "python",
   "name": "python3"
  },
  "language_info": {
   "codemirror_mode": {
    "name": "ipython",
    "version": 3
   },
   "file_extension": ".py",
   "mimetype": "text/x-python",
   "name": "python",
   "nbconvert_exporter": "python",
   "pygments_lexer": "ipython3",
   "version": "3.10.12"
  }
 },
 "nbformat": 4,
 "nbformat_minor": 5
}
