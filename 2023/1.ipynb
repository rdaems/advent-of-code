{
 "cells": [
  {
   "cell_type": "code",
   "execution_count": 47,
   "id": "4f86a0e6-273c-4000-b417-06d56348a652",
   "metadata": {},
   "outputs": [],
   "source": [
    "from aocd.models import Puzzle\n",
    "\n",
    "puzzle = Puzzle(year=2023, day=1)\n",
    "data = puzzle.input_data.split('\\n')"
   ]
  },
  {
   "cell_type": "code",
   "execution_count": 15,
   "id": "66922fd2-04ce-4dc6-83a0-13c5a4ec67fb",
   "metadata": {},
   "outputs": [
    {
     "name": "stdout",
     "output_type": "stream",
     "text": [
      "\u001b[32mThat's the right answer!  You are one gold star closer to restoring snow operations. [Continue to Part Two]\u001b[0m\n",
      "Opening in existing browser session.\n"
     ]
    }
   ],
   "source": [
    "answer = 0\n",
    "for x in data:\n",
    "    for a in x:\n",
    "        if a.isdigit():\n",
    "            answer += 10 * int(a)\n",
    "            break\n",
    "    for b in x[::-1]:\n",
    "        if b.isdigit():\n",
    "            answer += int(b)\n",
    "            break\n",
    "\n",
    "puzzle.answer_a = answer"
   ]
  },
  {
   "cell_type": "code",
   "execution_count": 28,
   "id": "c19f530e-21f2-43ae-b01d-8941762793f4",
   "metadata": {},
   "outputs": [],
   "source": [
    "data = \"\"\"\n",
    "two1nine\n",
    "eightwothree\n",
    "abcone2threexyz\n",
    "xtwone3four\n",
    "4nineeightseven2\n",
    "zoneight234\n",
    "7pqrstsixteen\n",
    "\"\"\".split('\\n')"
   ]
  },
  {
   "cell_type": "code",
   "execution_count": 52,
   "id": "1b6c9cc1-9802-4320-9825-ff8fac0e01df",
   "metadata": {},
   "outputs": [
    {
     "name": "stdout",
     "output_type": "stream",
     "text": [
      "\u001b[32mThat's the right answer!  You are one gold star closer to restoring snow operations.You have completed Day 1! You can [Shareon\n",
      "  Twitter\n",
      "Mastodon] this victory or [Return to Your Advent Calendar].\u001b[0m\n",
      "Opening in existing browser session.\n"
     ]
    }
   ],
   "source": [
    "digits = [\n",
    "    '1',\n",
    "    '2',\n",
    "    '3',\n",
    "    '4',\n",
    "    '5',\n",
    "    '6',\n",
    "    '7',\n",
    "    '8',\n",
    "    '9',\n",
    "    'one',\n",
    "    'two',\n",
    "    'three',\n",
    "    'four',\n",
    "    'five',\n",
    "    'six',\n",
    "    'seven',\n",
    "    'eight',\n",
    "    'nine',\n",
    "]\n",
    "\n",
    "answer = 0\n",
    "for x in data:\n",
    "    a, ia = None, len(x) + 1\n",
    "    b, jb = None, - 1\n",
    "    for z, d in enumerate(digits):\n",
    "        i = x.find(d)\n",
    "        if i > -1 and i < ia:\n",
    "            ia = i\n",
    "            a = z % 9 + 1\n",
    "        j = x.rfind(d)\n",
    "        if j > -1 and j > jb:\n",
    "            jb = j\n",
    "            b = z % 9 + 1\n",
    "    answer += 10 * a + b\n",
    "\n",
    "puzzle.answer_b = answer"
   ]
  }
 ],
 "metadata": {
  "kernelspec": {
   "display_name": "Python 3 (ipykernel)",
   "language": "python",
   "name": "python3"
  },
  "language_info": {
   "codemirror_mode": {
    "name": "ipython",
    "version": 3
   },
   "file_extension": ".py",
   "mimetype": "text/x-python",
   "name": "python",
   "nbconvert_exporter": "python",
   "pygments_lexer": "ipython3",
   "version": "3.10.12"
  }
 },
 "nbformat": 4,
 "nbformat_minor": 5
}
