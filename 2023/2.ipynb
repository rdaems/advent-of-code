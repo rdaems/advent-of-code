{
 "cells": [
  {
   "cell_type": "code",
   "execution_count": 1,
   "id": "50f89c86-fcac-4756-a1c4-4e1901289325",
   "metadata": {},
   "outputs": [],
   "source": [
    "from aocd.models import Puzzle\n",
    "\n",
    "puzzle = Puzzle(year=2023, day=2)\n",
    "data = puzzle.input_data.split('\\n')"
   ]
  },
  {
   "cell_type": "code",
   "execution_count": 10,
   "id": "23b880fe-6056-48a0-ad75-0da146f4374a",
   "metadata": {},
   "outputs": [
    {
     "name": "stdout",
     "output_type": "stream",
     "text": [
      "\u001b[32mThat's the right answer!  You are one gold star closer to restoring snow operations. [Continue to Part Two]\u001b[0m\n",
      "Opening in existing browser session.\n"
     ]
    }
   ],
   "source": [
    "answer = 0\n",
    "\n",
    "for x in data:\n",
    "    x = x.split(' ')\n",
    "    game_id = int(x[1][:-1])\n",
    "    max_numbers = {'r': 0, 'g': 0, 'b': 0}\n",
    "    for i in range((len(x) - 2) // 2):\n",
    "        n = x[2 * i + 2]\n",
    "        c = x[2 * i + 3][0]\n",
    "        max_numbers[c] = max(max_numbers[c], int(n))\n",
    "    if max_numbers['r'] <= 12 and max_numbers['g'] <= 13 and max_numbers['b'] <= 14:\n",
    "        answer += game_id\n",
    "\n",
    "puzzle.answer_a = answer"
   ]
  },
  {
   "cell_type": "code",
   "execution_count": 11,
   "id": "de0342a7-6b24-4615-8402-4171388997ae",
   "metadata": {},
   "outputs": [
    {
     "name": "stdout",
     "output_type": "stream",
     "text": [
      "\u001b[32mThat's the right answer!  You are one gold star closer to restoring snow operations.You have completed Day 2! You can [Shareon\n",
      "  Twitter\n",
      "Mastodon] this victory or [Return to Your Advent Calendar].\u001b[0m\n",
      "Opening in existing browser session.\n"
     ]
    }
   ],
   "source": [
    "answer = 0\n",
    "\n",
    "for x in data:\n",
    "    x = x.split(' ')\n",
    "    max_numbers = {'r': 0, 'g': 0, 'b': 0}\n",
    "    for i in range((len(x) - 2) // 2):\n",
    "        n = x[2 * i + 2]\n",
    "        c = x[2 * i + 3][0]\n",
    "        max_numbers[c] = max(max_numbers[c], int(n))\n",
    "    answer += max_numbers['r'] * max_numbers['g'] * max_numbers['b']\n",
    "\n",
    "puzzle.answer_b = answer"
   ]
  }
 ],
 "metadata": {
  "kernelspec": {
   "display_name": "Python 3 (ipykernel)",
   "language": "python",
   "name": "python3"
  },
  "language_info": {
   "codemirror_mode": {
    "name": "ipython",
    "version": 3
   },
   "file_extension": ".py",
   "mimetype": "text/x-python",
   "name": "python",
   "nbconvert_exporter": "python",
   "pygments_lexer": "ipython3",
   "version": "3.10.12"
  }
 },
 "nbformat": 4,
 "nbformat_minor": 5
}
